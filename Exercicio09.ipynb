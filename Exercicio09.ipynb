{
 "cells": [
  {
   "cell_type": "markdown",
   "metadata": {},
   "source": [
    "1 - Implemente um gerador infinito de números primos.\n",
    "\n",
    "Ex:\n",
    "i = 0\n",
    "while i < 10:\n",
    "    print(gera_primos())\n",
    "    i += 1\n",
    "\n",
    "Este código imprime os 10 primeiros números primos, isto é: 1, 2, 3, 5, 7, 11, 13, 17, 19, 23."
   ]
  },
  {
   "cell_type": "code",
   "execution_count": 36,
   "metadata": {},
   "outputs": [
    {
     "name": "stdout",
     "output_type": "stream",
     "text": [
      "Quantos primos deseja visualizar? 10\n",
      "O 1º nº primo é: 2\n",
      "O 2º nº primo é: 3\n",
      "O 3º nº primo é: 5\n",
      "O 4º nº primo é: 7\n",
      "O 5º nº primo é: 11\n",
      "O 6º nº primo é: 13\n",
      "O 7º nº primo é: 17\n",
      "O 8º nº primo é: 19\n",
      "O 9º nº primo é: 23\n",
      "O 10º nº primo é: 29\n"
     ]
    }
   ],
   "source": [
    "def gera_primos():\n",
    "    lista = []\n",
    "    x=0\n",
    "    while True:\n",
    "        if (isPrimo(x)):\n",
    "            lista.append(x)\n",
    "            x+=1\n",
    "            yield lista[-1]\n",
    "        else:\n",
    "            x+=1\n",
    "    \n",
    "def isPrimo(x):\n",
    "    if(x == 1 or x == 0):\n",
    "        return False\n",
    "    else:\n",
    "        mult=0\n",
    "        for count in range(2,x):\n",
    "            if (x % count == 0):\n",
    "                mult += 1\n",
    "        if(mult==0):\n",
    "            return True\n",
    "        else:\n",
    "            return False\n",
    "\n",
    "i = 0\n",
    "gerador = gera_primos()\n",
    "qtde = int(input(\"Quantos primos deseja visualizar? \"))\n",
    "while i < qtde:\n",
    "    print(f\"O {i+1}º nº primo é: {next(gerador)}\")\n",
    "    i += 1"
   ]
  },
  {
   "cell_type": "markdown",
   "metadata": {},
   "source": [
    "2 - Implementar um gerador que leia um arquivo e retorne uma lista de tuplas com os dados (o separador de campo do arquivo é virgula), eliminando as linhas vazias. Caso ocorra algum problema, imprima uma mensagem de aviso e encerre o programa.\n",
    "Use o exemplo abaixo como arquivo de entrada:\n",
    "\n",
    "Ex:\n",
    "\n",
    "Entrada:\n",
    "\n",
    "teste.txt\n",
    "\n",
    "1,vermelho,2,verde,3,amarelo,4,roxo\n",
    "5,verde,6,preto,7,laranja,8,amarelo\n",
    "9,preto,10,roxo,11,roxo,12,branco\n",
    "\n",
    "Chamada:\n",
    "\n",
    "gera_tupla(teste.txt)\n",
    "\n",
    "Retorno:\n",
    "\n",
    "[(1,'vermelho'),(2,'verde'),(3,'amarelo'),(4,'roxo'),(5,'verde'),(6,'preto'),(7,'laranja'),(8,'amarelo'),(9,'preto'),(10,'roxo'),(11,'roxo'),(12,'branco')]"
   ]
  },
  {
   "cell_type": "code",
   "execution_count": 146,
   "metadata": {},
   "outputs": [
    {
     "name": "stdout",
     "output_type": "stream",
     "text": [
      "Arquivo 'teste.txt'\n",
      "\n",
      "1,azul,2,amarelo,3,verde,4,azul,\n",
      "5,preto,6,amarelo,7,preto,8,vermelho,\n",
      "9,roxo,10,amarelo,11,preto,12,laranja\n",
      "\n",
      "[('1', 'azul'), ('2', 'amarelo'), ('3', 'verde'), ('4', 'azul'), ('5', 'preto'), ('6', 'amarelo'), ('7', 'preto'), ('8', 'vermelho'), ('9', 'roxo'), ('10', 'amarelo'), ('11', 'preto'), ('12', 'laranja\\n')]\n"
     ]
    }
   ],
   "source": [
    "import random\n",
    "import sys\n",
    "import re\n",
    "\n",
    "def gera_tupla(arquivo):\n",
    "    lista_tuplas = []\n",
    "    try:\n",
    "        for i, linha_arquivo in enumerate(arquivo):\n",
    "            #verifico para ignorar o título do arquivo e a primeira linha pulada\n",
    "            if(i>=2):\n",
    "                linha = linha_arquivo.split(',')\n",
    "                lista_tuplas.append((linha[0],linha[1]))\n",
    "                lista_tuplas.append((linha[2],linha[3]))\n",
    "                lista_tuplas.append((linha[4],linha[5]))\n",
    "                lista_tuplas.append((linha[6],linha[7]))\n",
    "        return lista_tuplas\n",
    "    except:\n",
    "        print(\"Certifique-se de ter 4 itens por linha\")\n",
    "        sys.exit(\"Falhou\")\n",
    "    \n",
    "number_list = [x for x in range(1,13)]\n",
    "colors = ['vermelho', 'verde', 'amarelo', 'roxo', 'preto', 'laranja', 'branco', 'azul']\n",
    "\n",
    "# cria o arquivo teste.txt\n",
    "teste_txt = open(\"teste.txt\",\"w+\")\n",
    "\n",
    "# preenche o teste.txt\n",
    "teste_txt.write(\"Arquivo 'teste.txt'\\n\\n\")\n",
    "for i, value in enumerate(number_list):\n",
    "    # escreve o número\n",
    "    teste_txt.write(f\"{str(value)},\")\n",
    "    # verifico, se for o último número, escrevo a cor e NÃO coloco vírgula, se não escreve cor e coloca vírgula\n",
    "    if(i+1 == len(number_list)):\n",
    "        teste_txt.write(str(random.choice(colors)))\n",
    "    else:\n",
    "        teste_txt.write(f\"{str(random.choice(colors))},\")\n",
    "    # verifico para dividir a linha a cada 4 cores\n",
    "    if((i+1)%4 == 0):\n",
    "        teste_txt.write(\"\\n\")\n",
    "    \n",
    "# imprime e fecha o teste.txt        \n",
    "teste_txt.seek(0)\n",
    "print(teste_txt.read())\n",
    "teste_txt.close()\n",
    "\n",
    "#abre o arquivo teste.txt para consulta e coloca o ponteiro no inicio\n",
    "teste_txt = open('teste.txt','a+')\n",
    "teste_txt.seek(0)\n",
    "\n",
    "tupla_gerada = gera_tupla(teste_txt)\n",
    "teste_txt.close()\n",
    "\n",
    "print(tupla_gerada)"
   ]
  },
  {
   "cell_type": "markdown",
   "metadata": {},
   "source": [
    "3 - Implementar dois geradores e rodá-los em paralelo (coroutine) para processar dois arquivos e gerar tuplas. O primeiro é similar ao do exercício 2. O segundo processa outro arquivo, também separado por vírgulas. No final, a lista gerada deve conter\n",
    "tuplas com 3 elementos. Use o exemplo baixo como base:\n",
    "\n",
    "Entrada:\n",
    "\n",
    "teste1.txt\n",
    "\n",
    "1,vermelho,2,verde,3,amarelo,4,roxo\n",
    "5,verde,6,preto,7,laranja,8,amarelo\n",
    "9,preto,10,roxo,11,roxo,12,branco\n",
    "\n",
    "teste2.txt\n",
    "\n",
    "0,1,0,0\n",
    "1,1,1,0\n",
    "1,0,0,1\n",
    "\n",
    "Chamada:\n",
    "\n",
    "gera_tupla1(teste1.txt), gera_tupla2(teste2.txt)\n",
    "\n",
    "Retorno:\n",
    "\n",
    "[(1,'vermelho',False),(2,'verde',True),(3,'amarelo',False),(4,'roxo',False),(5,'verde',True),(6,'preto',True),(7,'laranja',T\n",
    "rue),(8,'amarelo',False),(9,'preto',True),(10,'roxo',False),(11,'roxo',False),(12,'branco',True)]"
   ]
  },
  {
   "cell_type": "code",
   "execution_count": null,
   "metadata": {},
   "outputs": [],
   "source": []
  },
  {
   "cell_type": "markdown",
   "metadata": {},
   "source": [
    "4 - Escreva um generator que crie um fluxo infinito de inteiros a partir de um valor inicial dado com passo 5.\n",
    "\n",
    "Ex: gera_inteiros(7) = 12, 17, 22, 27, ..."
   ]
  },
  {
   "cell_type": "code",
   "execution_count": null,
   "metadata": {},
   "outputs": [],
   "source": []
  },
  {
   "cell_type": "markdown",
   "metadata": {},
   "source": [
    "5 - Estenda o generator do exercício 4 em uma coroutine que permita que a mudança do passo seja feita de fora (use send()).\n",
    "\n",
    "Ex: gera_inteiros_flex(7) = 12, 17, 22, 24, 26, 28, 30...\n",
    "\n",
    "Entre 22 e 24 o passo foi alterado de 5 para 2."
   ]
  }
 ],
 "metadata": {
  "kernelspec": {
   "display_name": "Python 3",
   "language": "python",
   "name": "python3"
  },
  "language_info": {
   "codemirror_mode": {
    "name": "ipython",
    "version": 3
   },
   "file_extension": ".py",
   "mimetype": "text/x-python",
   "name": "python",
   "nbconvert_exporter": "python",
   "pygments_lexer": "ipython3",
   "version": "3.7.4"
  }
 },
 "nbformat": 4,
 "nbformat_minor": 2
}

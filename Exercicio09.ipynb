{
 "cells": [
  {
   "cell_type": "code",
   "execution_count": 2,
   "metadata": {},
   "outputs": [],
   "source": [
    "import asyncio\n",
    "import random\n",
    "import sys\n",
    "import re\n",
    "from time import time"
   ]
  },
  {
   "cell_type": "markdown",
   "metadata": {},
   "source": [
    "1 - Implemente um gerador infinito de números primos.\n",
    "\n",
    "Ex:\n",
    "i = 0\n",
    "while i < 10:\n",
    "    print(gera_primos())\n",
    "    i += 1\n",
    "\n",
    "Este código imprime os 10 primeiros números primos, isto é: 1, 2, 3, 5, 7, 11, 13, 17, 19, 23."
   ]
  },
  {
   "cell_type": "code",
   "execution_count": 3,
   "metadata": {},
   "outputs": [
    {
     "name": "stdout",
     "output_type": "stream",
     "text": [
      "Quantos primos deseja visualizar? 5\n",
      "O 1º nº primo é: 2\n",
      "O 2º nº primo é: 3\n",
      "O 3º nº primo é: 5\n",
      "O 4º nº primo é: 7\n",
      "O 5º nº primo é: 11\n",
      "O cálculo levou: 1.37031 s\n"
     ]
    }
   ],
   "source": [
    "def gera_primos():\n",
    "    lista = []\n",
    "    x=0\n",
    "    while True:\n",
    "        if (isPrimo(x)):\n",
    "            lista.append(x)\n",
    "            x+=1\n",
    "            yield lista[-1]\n",
    "        else:\n",
    "            x+=1\n",
    "    \n",
    "def isPrimo(x):\n",
    "    if(x == 1 or x == 0):\n",
    "        return False\n",
    "    else:\n",
    "        mult=0\n",
    "        for count in range(2,x):\n",
    "            if (x % count == 0):\n",
    "                mult += 1\n",
    "        if(mult==0):\n",
    "            return True\n",
    "        else:\n",
    "            return False\n",
    "\n",
    "i = 0\n",
    "t0 = time()\n",
    "\n",
    "gerador = gera_primos()\n",
    "qtde = int(input(\"Quantos primos deseja visualizar? \"))\n",
    "while i < qtde:\n",
    "    print(f\"O {i+1}º nº primo é: {next(gerador)}\")\n",
    "    i += 1\n",
    "\n",
    "t1 = time()\n",
    "\n",
    "print(\"O cálculo levou: %.5f s\" %(t1-t0))"
   ]
  },
  {
   "cell_type": "markdown",
   "metadata": {},
   "source": [
    "2 - Implementar um gerador que leia um arquivo e retorne uma lista de tuplas com os dados (o separador de campo do arquivo é virgula), eliminando as linhas vazias. Caso ocorra algum problema, imprima uma mensagem de aviso e encerre o programa.\n",
    "Use o exemplo abaixo como arquivo de entrada:\n",
    "\n",
    "Ex:\n",
    "\n",
    "Entrada:\n",
    "\n",
    "teste.txt\n",
    "\n",
    "1,vermelho,2,verde,3,amarelo,4,roxo\n",
    "5,verde,6,preto,7,laranja,8,amarelo\n",
    "9,preto,10,roxo,11,roxo,12,branco\n",
    "\n",
    "Chamada:\n",
    "\n",
    "gera_tupla(teste.txt)\n",
    "\n",
    "Retorno:\n",
    "\n",
    "[(1,'vermelho'),(2,'verde'),(3,'amarelo'),(4,'roxo'),(5,'verde'),(6,'preto'),(7,'laranja'),(8,'amarelo'),(9,'preto'),(10,'roxo'),(11,'roxo'),(12,'branco')]"
   ]
  },
  {
   "cell_type": "code",
   "execution_count": 4,
   "metadata": {},
   "outputs": [
    {
     "name": "stdout",
     "output_type": "stream",
     "text": [
      "1,verde,2,verde,3,branco,4,amarelo\n",
      "5,laranja,6,preto,7,azul,8,preto\n",
      "9,roxo,10,verde,11,vermelho,12,vermelho\n",
      "[('1', 'verde'), ('2', 'verde'), ('3', 'branco'), ('4', 'amarelo'), ('5', 'laranja'), ('6', 'preto'), ('7', 'azul'), ('8', 'preto'), ('9', 'roxo'), ('10', 'verde'), ('11', 'vermelho'), ('12', 'vermelho')]\n"
     ]
    }
   ],
   "source": [
    "class TextIterator:\n",
    "    def __init__(self, text_file):\n",
    "        self.text = text_file.read().replace(\"\\n\", \",\").split(\",\")\n",
    "        self.cur_pos = 0\n",
    "\n",
    "    def __iter__(self):\n",
    "        return self\n",
    "\n",
    "    def __next__(self):\n",
    "        if self.cur_pos >= len(self.text):\n",
    "            raise StopIteration\n",
    "        \n",
    "        pos =  self.cur_pos\n",
    "        self.cur_pos += 2\n",
    "        return (self.text[pos],self.text[pos + 1])\n",
    "\n",
    "def generate_tuple(text_file):\n",
    "    return list(TextIterator(text_file))\n",
    "\n",
    "\n",
    "number_list = [x for x in range(1,13)]\n",
    "colors = ['vermelho', 'verde', 'amarelo', 'roxo', 'preto', 'laranja', 'branco', 'azul']\n",
    "\n",
    "# cria o arquivo teste.txt\n",
    "teste_txt = open(\"teste.txt\",\"w+\")\n",
    "\n",
    "# preenche o teste.txt\n",
    "for i, value in enumerate(number_list):\n",
    "    #escreve o número\n",
    "    teste_txt.write(f\"{str(value)}\")\n",
    "    # verifico para pular a linha a cada 4 cores\n",
    "    if((i+1)%4 == 0):\n",
    "        #verifico se é a última linha para não colocar um \\n\n",
    "        if(i+1 == len(number_list)):\n",
    "            teste_txt.write(f\",{str(random.choice(colors))}\")\n",
    "        else:\n",
    "            teste_txt.write(f\",{str(random.choice(colors))}\\n\")\n",
    "    else:\n",
    "        teste_txt.write(f\",{str(random.choice(colors))},\")\n",
    "    \n",
    "# imprime e fecha o teste.txt        \n",
    "teste_txt.seek(0)\n",
    "print(teste_txt.read())\n",
    "teste_txt.close()\n",
    "\n",
    "\n",
    "teste_txt = open(\"teste.txt\", \"r\")\n",
    "teste_txt.seek(0)\n",
    "\n",
    "print(generate_tuple(teste_txt))\n",
    "\n",
    "teste_txt.close()"
   ]
  },
  {
   "cell_type": "markdown",
   "metadata": {},
   "source": [
    "3 - Implementar dois geradores e rodá-los em paralelo (coroutine) para processar dois arquivos e gerar tuplas. O primeiro é similar ao do exercício 2. O segundo processa outro arquivo, também separado por vírgulas. No final, a lista gerada deve conter\n",
    "tuplas com 3 elementos. Use o exemplo baixo como base:\n",
    "\n",
    "Entrada:\n",
    "\n",
    "teste1.txt\n",
    "\n",
    "1,vermelho,2,verde,3,amarelo,4,roxo\n",
    "5,verde,6,preto,7,laranja,8,amarelo\n",
    "9,preto,10,roxo,11,roxo,12,branco\n",
    "\n",
    "teste2.txt\n",
    "\n",
    "0,1,0,0\n",
    "1,1,1,0\n",
    "1,0,0,1\n",
    "\n",
    "Chamada:\n",
    "\n",
    "gera_tupla1(teste1.txt), gera_tupla2(teste2.txt)\n",
    "\n",
    "Retorno:\n",
    "\n",
    "[(1,'vermelho',False),(2,'verde',True),(3,'amarelo',False),(4,'roxo',False),(5,'verde',True),(6,'preto',True),(7,'laranja',T\n",
    "rue),(8,'amarelo',False),(9,'preto',True),(10,'roxo',False),(11,'roxo',False),(12,'branco',True)]"
   ]
  },
  {
   "cell_type": "code",
   "execution_count": 5,
   "metadata": {
    "scrolled": false
   },
   "outputs": [
    {
     "name": "stdout",
     "output_type": "stream",
     "text": [
      "1,0,1,1\n",
      "0,1,0,1\n",
      "0,1,1,0\n",
      "0,1,1,1\n",
      "[('1', 'verde', True), ('2', 'verde', False), ('3', 'branco', True), ('4', 'amarelo', True), ('5', 'laranja', False), ('6', 'preto', True), ('7', 'azul', False), ('8', 'preto', True), ('9', 'roxo', False), ('10', 'verde', True), ('11', 'vermelho', True), ('12', 'vermelho', False)]\n"
     ]
    }
   ],
   "source": [
    "class TextIterator:\n",
    "    def __init__(self, text_file, binary_file):\n",
    "        self.text = text_file.read().replace(\"\\n\", \",\").split(\",\")\n",
    "        self.binary = binary_file.read().replace(\"\\n\", \",\").split(\",\")\n",
    "        self.cur_pos = 0\n",
    "\n",
    "    def __iter__(self):\n",
    "        return self\n",
    "\n",
    "    def __next__(self):\n",
    "        if self.cur_pos >= len(self.text):\n",
    "            raise StopIteration\n",
    "        \n",
    "        pos =  self.cur_pos\n",
    "        binary_pos = int(pos/2)\n",
    "        self.cur_pos += 2\n",
    "        return (self.text[pos], self.text[pos + 1],  bool(int(self.binary[binary_pos])))\n",
    "\n",
    "number_list = [x for x in range(1,9)]\n",
    "binario = [0,1]\n",
    "    \n",
    "# cria o arquivo teste2.txt\n",
    "teste2_txt = open(\"teste2.txt\",\"w+\")\n",
    "\n",
    "# preenche o teste2.txt\n",
    "for i in number_list:\n",
    "    teste2_txt.write(f\"{str(random.choice(binario))}\")\n",
    "    # verifico para pular a linha a cada 4 cores\n",
    "    if((i)%2 == 0):\n",
    "        #verifico se é a última linha para não colocar um \\n\n",
    "        if(i == len(number_list)):\n",
    "            teste2_txt.write(f\",{str(random.choice(binario))}\")\n",
    "        else:\n",
    "            teste2_txt.write(f\",{str(random.choice(binario))}\\n\")\n",
    "    else:\n",
    "        teste2_txt.write(f\",{str(random.choice(binario))},\")\n",
    "    \n",
    "# imprime e fecha o teste2.txt        \n",
    "teste2_txt.seek(0)\n",
    "print(teste2_txt.read())\n",
    "teste2_txt.close()    \n",
    "\n",
    "async def readFile(file_name):\n",
    "    return open(file_name, \"r\")\n",
    "\n",
    "async def main():\n",
    "    task_text = asyncio.create_task(readFile(\"teste.txt\"))\n",
    "    task_binary = asyncio.create_task(readFile(\"teste2.txt\"))\n",
    "    await task_text\n",
    "    await task_binary\n",
    "\n",
    "    print(list(TextIterator(task_text.result(), task_binary.result())))\n",
    "\n",
    "await main()"
   ]
  },
  {
   "cell_type": "markdown",
   "metadata": {},
   "source": [
    "4 - Escreva um generator que crie um fluxo infinito de inteiros a partir de um valor inicial dado com passo 5.\n",
    "\n",
    "Ex: gera_inteiros(7) = 12, 17, 22, 27, ..."
   ]
  },
  {
   "cell_type": "code",
   "execution_count": 16,
   "metadata": {},
   "outputs": [
    {
     "name": "stdout",
     "output_type": "stream",
     "text": [
      "Digite um número de início: 7\n",
      "Quantos números deseja visualizar? 5\n",
      "12\n",
      "17\n",
      "22\n",
      "27\n",
      "32\n",
      "Levou 0.00000 s para gerar os valores\n"
     ]
    }
   ],
   "source": [
    "def gera_inteiros(num):\n",
    "    res = num\n",
    "    while True:\n",
    "        res += 5\n",
    "        yield res\n",
    "        \n",
    "g = gera_inteiros(int(input(\"Digite um número de início: \")))\n",
    "num_stop = int(input(\"Quantos números deseja visualizar? \"))\n",
    "\n",
    "t0 = time()\n",
    "\n",
    "while(num_stop > 0):\n",
    "    print(next(g))\n",
    "    num_stop -= 1\n",
    "    \n",
    "t1 = time()\n",
    "print(\"Levou %.5f s para gerar os valores\" %(t1-t0))"
   ]
  },
  {
   "cell_type": "markdown",
   "metadata": {},
   "source": [
    "5 - Estenda o generator do exercício 4 em uma coroutine que permita que a mudança do passo seja feita de fora (use send()).\n",
    "\n",
    "Ex: gera_inteiros_flex(7) = 12, 17, 22, 24, 26, 28, 30...\n",
    "\n",
    "Entre 22 e 24 o passo foi alterado de 5 para 2."
   ]
  },
  {
   "cell_type": "code",
   "execution_count": 24,
   "metadata": {},
   "outputs": [
    {
     "name": "stdout",
     "output_type": "stream",
     "text": [
      "Digite o valor inicial: 7\n",
      "A iteração inicial é 5\n",
      "Digite o valor da próxima iteração ou mantenha em branco para mesmo valor. Digite 'sair' para sair!\n",
      "12\n",
      "Digite o valor da próxima iteração ou mantenha em branco para mesmo valor. Digite 'sair' para sair!\n",
      "17\n",
      "Digite o valor da próxima iteração ou mantenha em branco para mesmo valor. Digite 'sair' para sair!10\n",
      "27\n",
      "Digite o valor da próxima iteração ou mantenha em branco para mesmo valor. Digite 'sair' para sair!\n",
      "37\n",
      "Digite o valor da próxima iteração ou mantenha em branco para mesmo valor. Digite 'sair' para sair!\n",
      "47\n",
      "Digite o valor da próxima iteração ou mantenha em branco para mesmo valor. Digite 'sair' para sair!2\n",
      "49\n",
      "Digite o valor da próxima iteração ou mantenha em branco para mesmo valor. Digite 'sair' para sair!\n",
      "51\n",
      "Digite o valor da próxima iteração ou mantenha em branco para mesmo valor. Digite 'sair' para sair!1\n",
      "52\n",
      "Digite o valor da próxima iteração ou mantenha em branco para mesmo valor. Digite 'sair' para sair!4\n",
      "56\n",
      "Digite o valor da próxima iteração ou mantenha em branco para mesmo valor. Digite 'sair' para sair!sair\n"
     ]
    }
   ],
   "source": [
    "def gera_inteiros_flex(num):\n",
    "    while True:\n",
    "        num += yield\n",
    "        yield num\n",
    "\n",
    "valor_ini = int(input(\"Digite o valor inicial: \"))\n",
    "\n",
    "g = gera_inteiros_flex(valor_ini)\n",
    "\n",
    "iterador = 5\n",
    "print(\"A iteração inicial é 5\")\n",
    "\n",
    "while True:\n",
    "    prox_itera = input(\"Digite o valor da próxima iteração ou mantenha em branco para mesmo valor. Digite 'sair' para sair! \")\n",
    "\n",
    "    if(prox_itera == 'sair'):\n",
    "        break\n",
    "    elif(prox_itera != \"\"):\n",
    "        iterador = int(prox_itera)\n",
    "        \n",
    "    g.send(None)\n",
    "    print(g.send(iterador))"
   ]
  }
 ],
 "metadata": {
  "kernelspec": {
   "display_name": "Python 3",
   "language": "python",
   "name": "python3"
  },
  "language_info": {
   "codemirror_mode": {
    "name": "ipython",
    "version": 3
   },
   "file_extension": ".py",
   "mimetype": "text/x-python",
   "name": "python",
   "nbconvert_exporter": "python",
   "pygments_lexer": "ipython3",
   "version": "3.7.4"
  }
 },
 "nbformat": 4,
 "nbformat_minor": 2
}

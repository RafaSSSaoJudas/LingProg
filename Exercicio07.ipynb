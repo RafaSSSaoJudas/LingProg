{
 "cells": [
  {
   "cell_type": "code",
   "execution_count": 4,
   "metadata": {},
   "outputs": [
    {
     "name": "stdout",
     "output_type": "stream",
     "text": [
      "Demorou: 0.00000 s\n"
     ]
    }
   ],
   "source": [
    "import time\n",
    "\n",
    "t0 = time.time()\n",
    "\n",
    "t1 = time.time()\n",
    "print('Demorou: %.5f s' %(t1-t0))"
   ]
  },
  {
   "cell_type": "markdown",
   "metadata": {},
   "source": [
    "1 - Defina a função soma_nat que recebe como argumento um número natural  n e devolve a soma de todos os números naturais até  n.\n",
    "\n",
    "Ex: soma_nat(5) = 15"
   ]
  },
  {
   "cell_type": "code",
   "execution_count": null,
   "metadata": {},
   "outputs": [],
   "source": [
    "soma_nat = lambda n: 0 if n == 0 else n + soma_nat(n-1)\n",
    "\n",
    "t0 = time.time()\n",
    "print(soma_nat(5))\n",
    "print('Começando o teste')\n",
    "assert(soma_nat(0) == 0)\n",
    "assert(soma_nat(1) == 1)\n",
    "assert(soma_nat(5) == 15)\n",
    "assert(soma_nat(4) == 10)\n",
    "print('Terminou')\n",
    "t1 = time.time()\n",
    "print(\"O cálculo + teste levaram: %.5f s\" %(t1-t0))"
   ]
  },
  {
   "cell_type": "markdown",
   "metadata": {},
   "source": [
    "2 - Defina a função div que recebe como argumentos dois números naturais  m e  n  e devolve o resultado da divisão inteira de  m  por  n. Neste exercício você não pode recorrer às operações aritméticas de multiplicação, divisão e resto da divisão inteira.\n",
    "\n",
    "Ex: div(7,2) = 3"
   ]
  },
  {
   "cell_type": "code",
   "execution_count": null,
   "metadata": {},
   "outputs": [],
   "source": [
    "div = lambda m, n: 'Não dá pra dividir por zero' if n == 0 else 1 + div(m - n, n) if m >= n else 0\n",
    "\n",
    "t0 = time.time()\n",
    "print(div(7, 2))\n",
    "print('Começando o teste')\n",
    "assert(div(7,2) == 3)\n",
    "assert(div(6,2) == 3)\n",
    "assert(div(1,2) == 0)\n",
    "assert(div(0,2) == 0)\n",
    "assert(div(6,7) == 0)\n",
    "assert(div(7,0) == 'Não dá pra dividir por zero')\n",
    "print('Terminou')\n",
    "t1 = time.time()\n",
    "print(\"O cálculo + teste levaram: %.5f s\" %(t1-t0))"
   ]
  },
  {
   "cell_type": "markdown",
   "metadata": {},
   "source": [
    "3 - Defina a função prim_alg que recebe como argumento um número natural e devolve o primeiro algarismo (o mais significativo) na representação decimal de  n.\n",
    "\n",
    "Ex: prim_alg(5649) = 5\n",
    "Ex: prim_alg(7) = 7"
   ]
  },
  {
   "cell_type": "code",
   "execution_count": null,
   "metadata": {},
   "outputs": [],
   "source": [
    "prim_alg = lambda n: prim_alg(n/10) if int(n/10)>1 else int(n)\n",
    "\n",
    "t0 = time.time()\n",
    "print(prim_alg(891723.878))\n",
    "print(prim_alg(7))\n",
    "\n",
    "print('Começando o teste')\n",
    "assert(prim_alg(8045540) == 8)\n",
    "assert(prim_alg(2) == 2)\n",
    "assert(prim_alg(0.245) == 0)\n",
    "print('Terminou')\n",
    "t1 = time.time()\n",
    "print(\"O cálculo + teste levaram: %.5f s\" %(t1-t0))"
   ]
  },
  {
   "cell_type": "markdown",
   "metadata": {},
   "source": [
    "4 - Defina a função prod_lista que recebe como argumento uma lista de inteiros e devolve o produto dos seus elementos.\n",
    "\n",
    "Ex: prod_lista([1,2,3,4,5,6]) = 720"
   ]
  },
  {
   "cell_type": "code",
   "execution_count": null,
   "metadata": {},
   "outputs": [],
   "source": [
    "prod_lista = lambda lista: lista[0] if len(lista) == 1 else lista.pop() * prod_lista(lista)\n",
    "\n",
    "inteiros = list(map(int,input(\"Digite uma lista de números inteiros separados por espaço: \").split()))\n",
    "\n",
    "t0 = time.time()\n",
    "print(prod_lista(inteiros))\n",
    "\n",
    "print('Começando o teste')\n",
    "assert(prod_lista([1,2,3,4,5]) == 120)\n",
    "assert(prod_lista([4,3,8]) == 96)\n",
    "assert(prod_lista([0,4,5,6]) == 0)\n",
    "print('Terminou')\n",
    "t1 = time.time()\n",
    "print(\"O cálculo + teste levaram: %.5f s\" %(t1-t0))"
   ]
  },
  {
   "cell_type": "markdown",
   "metadata": {},
   "source": [
    "5 - Defina a função contem_parQ que recebe como argumento uma lista de números inteiros  w e devolve True se w contém um número par e False em caso contrário.\n",
    "\n",
    "Ex: contem_parQ([2,3,1,2,3,4]) = True\n",
    "Ex: contem_parQ([1,3,5,7]) = False"
   ]
  },
  {
   "cell_type": "code",
   "execution_count": null,
   "metadata": {},
   "outputs": [],
   "source": [
    "contem_parQ = lambda lista: False if len(lista)==0 else True if lista.pop()%2==0 else contem_parQ(lista)\n",
    "\n",
    "inteiros = list(map(int,input(\"Digite uma lista de números inteiros separados por espaço: \").split()))\n",
    "\n",
    "t0 = time.time()\n",
    "print(contem_parQ(inteiros))\n",
    "\n",
    "print('Começando o teste')\n",
    "assert(contem_parQ([1,2,3,4,5]) == True)\n",
    "assert(contem_parQ([5,3,8]) == True)\n",
    "assert(contem_parQ([4,5,3,]) == True)\n",
    "assert(contem_parQ([0,1,5,3]) == True)\n",
    "assert(contem_parQ([1,55,31]) == False)\n",
    "print('Terminou')\n",
    "t1 = time.time()\n",
    "print(\"O cálculo + teste levaram: %.5f s\" %(t1-t0))"
   ]
  },
  {
   "cell_type": "markdown",
   "metadata": {},
   "source": [
    "6 - Defina a função todos_imparesQ que recebe como argumento uma lista de números inteiros w e devolve True se  w contém apenas números ímpares e False em caso contrário.\n",
    "\n",
    "Ex: todos_imparesQ([1,3,5,7]) = True\n",
    "Ex: todos_imparesQ([]) = True\n",
    "Ex: todos_imparesQ([1,2,3,4,5]) = False"
   ]
  },
  {
   "cell_type": "code",
   "execution_count": null,
   "metadata": {},
   "outputs": [],
   "source": [
    "todos_imparesQ = lambda lista: True if len(lista)==0 else False if lista.pop()%2==0 else todos_imparesQ(lista)\n",
    "\n",
    "inteiros = list(map(int,input(\"Digite uma lista de números inteiros separados por espaço: \").split()))\n",
    "\n",
    "t0 = time.time()\n",
    "print(todos_imparesQ(inteiros))\n",
    "\n",
    "print('Começando o teste')\n",
    "assert(todos_imparesQ([1,2,3,4,5]) == False)\n",
    "assert(todos_imparesQ([5,3,8]) == False)\n",
    "assert(todos_imparesQ([4,5,3,]) == False)\n",
    "assert(todos_imparesQ([0,1,5,3]) == False)\n",
    "assert(todos_imparesQ([1,55,31]) == True)\n",
    "print('Terminou')\n",
    "t1 = time.time()\n",
    "print(\"O cálculo + teste levaram: %.5f s\" %(t1-t0))"
   ]
  },
  {
   "cell_type": "markdown",
   "metadata": {},
   "source": [
    "7 - Defina a função pertenceQ que recebe como argumentos uma lista de números inteiros  w  e um número inteiro  n  e devolve True se  n  ocorre em  w  e False em caso contrário.\n",
    "\n",
    "Ex: pertenceQ([1,2,3],1) = True\n",
    "Ex: pertenceQ([1,2,3],2) = True\n",
    "Ex: pertenceQ([1,2,3],3) = True\n",
    "Ex: pertenceQ([1,2,3],4) = False"
   ]
  },
  {
   "cell_type": "code",
   "execution_count": null,
   "metadata": {},
   "outputs": [],
   "source": [
    "pertenceQ = lambda lista, num: False if len(lista)==0 else True if lista.pop()==num else pertenceQ(lista, num)\n",
    "\n",
    "inteiros = list(map(int,input(\"Digite uma lista de números inteiros separados por espaço: \").split()))\n",
    "verificador = int(input(\"Digite um número inteiro para verificar se está na lista: \"))\n",
    "\n",
    "t0 = time.time()\n",
    "print(pertenceQ(inteiros, verificador))\n",
    "\n",
    "print('Começando o teste')\n",
    "assert(pertenceQ([1,2,3,4,5],6) == False)\n",
    "assert(pertenceQ([5,3,8],-5) == False)\n",
    "assert(pertenceQ([4,5,3,],5) == True)\n",
    "assert(pertenceQ([0,1,5,3],0) == True)\n",
    "assert(pertenceQ([1,55,31],31) == True)\n",
    "assert(pertenceQ([1,-55,31],-55) == True)\n",
    "print('Terminou')\n",
    "t1 = time.time()\n",
    "print(\"O cálculo + teste levaram: %.5f s\" %(t1-t0))"
   ]
  },
  {
   "cell_type": "markdown",
   "metadata": {},
   "source": [
    "8 - Defina a função junta que recebe como argumentos duas listas de números inteiros  w1  e  w2  e devolve a concatenação de  w1  com  w2 .\n",
    "\n",
    "Ex: junta([1,2,3],[4,5,6]) = [1, 2, 3, 4, 5, 6]\n",
    "Ex: junta([],[4,5,6]) = [4, 5, 6]\n",
    "Ex: junta([1,2,3],[]) = [1, 2, 3]"
   ]
  },
  {
   "cell_type": "code",
   "execution_count": null,
   "metadata": {},
   "outputs": [],
   "source": [
    "junta = lambda lista1, lista2: lista1 if len(lista2)==0 else junta(lista1, lista2) if lista1.append(lista2.pop(0)) == None else None\n",
    "\n",
    "\n",
    "inteiros1 = list(map(int,input(\"Digite uma lista de números inteiros separados por espaço: \").split()))\n",
    "inteiros2 = list(map(int,input(\"Digite uma segunda lista de números inteiros separados por espaço: \").split()))\n",
    "\n",
    "t0 = time.time()\n",
    "print(junta(inteiros1, inteiros2))\n",
    "\n",
    "print('Começando o teste')\n",
    "assert(junta([1,2,3],[4,5,6]) == [1, 2, 3, 4, 5, 6])\n",
    "assert(junta([],[4,5,6]) == [4, 5, 6])\n",
    "assert(junta([1,2,3],[]) == [1, 2, 3])\n",
    "assert(junta([100,20,30],[12,-5,0]) == [100,20,30,12,-5,0])\n",
    "print('Terminou')\n",
    "t1 = time.time()\n",
    "print(\"O cálculo + teste levaram: %.5f s\" %(t1-t0))"
   ]
  },
  {
   "cell_type": "markdown",
   "metadata": {},
   "source": [
    "9 - Defina a função temPrimoQ que recebe como argumento uma lista de listas de números inteiros  w  e devolve True se alguma das sublistas  w  tem um número primo e False em caso contrário.\n",
    "\n",
    "Ex: temPrimoQ([[4,4,4,4],[5,4,6,7],[2,4,3]]) = True\n",
    "Ex: temPrimoQ([[4,4,4,4],[4,4,4],[],[4]]) = False"
   ]
  },
  {
   "cell_type": "code",
   "execution_count": 19,
   "metadata": {},
   "outputs": [
    {
     "name": "stdout",
     "output_type": "stream",
     "text": [
      "Digite uma lista de números inteiros separados por espaço: 8 12 1\n",
      "Deseja criar uma nova sublista de inteiros? n\n",
      "[[8, 12, 1]]\n",
      "False\n",
      "Começando o teste\n",
      "Terminou\n",
      "O cálculo + teste levaram: 4.06841 s\n"
     ]
    }
   ],
   "source": [
    "isPrimo = lambda num, n=2: False if num <= 1 else True if n == num else False if num % (n) == 0 else isPrimo(num, n + 1)\n",
    "temPrimoQ = lambda lista: False if len(lista) == 0 else temPrimoQ(lista) if len(lista[0]) == 0 and not lista.pop(0) == None else True if isPrimo(lista[0].pop(0)) else temPrimoQ(lista)\n",
    "\n",
    "def testes():\n",
    "    print('Começando o teste')\n",
    "    assert(temPrimoQ([[4,4,4,4],[5,4,6,7],[2,4,3]]) == True)\n",
    "    assert(temPrimoQ([[4,4,4,4],[4,4,4],[],[4]]) == False)\n",
    "    assert(temPrimoQ([[4,4,4,4],[],[5,4,6,7],[2,4,3]]) == True)\n",
    "    assert(temPrimoQ([[4,4,4,4],[4,4,4],[],[4],[0,1]]) == False)\n",
    "    print('Terminou')\n",
    "    \n",
    "def valores():\n",
    "    positive = [\"sim\", \"yes\", \"true\", \"s\", \"y\"]\n",
    "    adiciona = True\n",
    "    inteiros = [list(map(int,input(\"Digite uma lista de números inteiros separados por espaço: \").split()))]\n",
    "    while(adiciona):\n",
    "        menu = input(\"Deseja criar uma nova sublista de inteiros? \")\n",
    "        if(menu in positive):\n",
    "            new_list = list(map(int,input(\"Digite a sublista de números inteiros separados por espaço: \").split()))\n",
    "            inteiros.append(new_list)\n",
    "            new_list = []\n",
    "        else:\n",
    "            adiciona = False\n",
    "    print(inteiros)\n",
    "    return inteiros\n",
    "\n",
    "t0 = time.time()\n",
    "print(temPrimoQ(valores()))\n",
    "testes()\n",
    "t1 = time.time()\n",
    "print(\"O cálculo + teste levaram: %.5f s\" %(t1-t0))"
   ]
  },
  {
   "cell_type": "markdown",
   "metadata": {},
   "source": [
    "10 - Defina a função inverteLista que recebe como argumento uma lista  w e devolve a mesma lista mas invertida.\n",
    "\n",
    "Ex: inverteLista([1,2,3,4,5]) = [5, 4, 3, 2, 1]\n",
    "Ex: inverteLista([])"
   ]
  },
  {
   "cell_type": "code",
   "execution_count": 13,
   "metadata": {},
   "outputs": [
    {
     "name": "stdout",
     "output_type": "stream",
     "text": [
      "Digite uma lista de números inteiros separados por espaço: 1 2 3\n",
      "[1, 2, 3]\n",
      "[3, 2, 1]\n",
      "Começando o teste\n",
      "Terminou\n",
      "O cálculo + teste levaram: 1.35573 s\n"
     ]
    }
   ],
   "source": [
    "inverteLista = lambda lista: lista if lista.reverse() == None else lista\n",
    "\n",
    "def testes():\n",
    "    print('Começando o teste')\n",
    "    assert(inverteLista([1,2,3,4,5]) == [5, 4, 3, 2, 1])\n",
    "    assert(inverteLista([]) == [])\n",
    "    assert(inverteLista([-7,4,-8,0]) == [0,-8,4,-7])\n",
    "    print('Terminou')\n",
    "    \n",
    "def valores():\n",
    "    lista_int = list(map(int,input(\"Digite uma lista de números inteiros separados por espaço: \").split()))\n",
    "    print(lista_int)\n",
    "    return lista_int\n",
    "    \n",
    "t0 = time.time()\n",
    "print(inverteLista(valores()))\n",
    "testes()\n",
    "t1 = time.time()\n",
    "print(\"O cálculo + teste levaram: %.5f s\" %(t1-t0))"
   ]
  },
  {
   "cell_type": "code",
   "execution_count": null,
   "metadata": {},
   "outputs": [],
   "source": [
    "def inverteLista(w):\n",
    "    if(w):\n",
    "        x = w[0]\n",
    "        w.pop(0)\n",
    "        if(not w):\n",
    "            return [x]\n",
    "        new_w = inverteLista(w)\n",
    "        new_w.append(x)\n",
    "        return new_w\n",
    "    return w"
   ]
  },
  {
   "cell_type": "code",
   "execution_count": 9,
   "metadata": {},
   "outputs": [
    {
     "name": "stdout",
     "output_type": "stream",
     "text": [
      "Digite uma lista de números inteiros separados por espaço: 1 2 3\n",
      "[1, 2, 3]\n"
     ]
    },
    {
     "ename": "TypeError",
     "evalue": "<lambda>() missing 3 required positional arguments: 'lista', 'x', and 'lista_aux'",
     "output_type": "error",
     "traceback": [
      "\u001b[1;31m---------------------------------------------------------------------------\u001b[0m",
      "\u001b[1;31mTypeError\u001b[0m                                 Traceback (most recent call last)",
      "\u001b[1;32m<ipython-input-9-6b3e35ddea9a>\u001b[0m in \u001b[0;36m<module>\u001b[1;34m\u001b[0m\n\u001b[0;32m     17\u001b[0m \u001b[1;33m\u001b[0m\u001b[0m\n\u001b[0;32m     18\u001b[0m \u001b[0mt0\u001b[0m \u001b[1;33m=\u001b[0m \u001b[0mtime\u001b[0m\u001b[1;33m.\u001b[0m\u001b[0mtime\u001b[0m\u001b[1;33m(\u001b[0m\u001b[1;33m)\u001b[0m\u001b[1;33m\u001b[0m\u001b[1;33m\u001b[0m\u001b[0m\n\u001b[1;32m---> 19\u001b[1;33m \u001b[0mprint\u001b[0m\u001b[1;33m(\u001b[0m\u001b[0minverteLista\u001b[0m\u001b[1;33m(\u001b[0m\u001b[0mvalores\u001b[0m\u001b[1;33m(\u001b[0m\u001b[1;33m)\u001b[0m\u001b[1;33m,\u001b[0m \u001b[1;36m0\u001b[0m\u001b[1;33m,\u001b[0m \u001b[1;33m[\u001b[0m\u001b[1;33m]\u001b[0m\u001b[1;33m)\u001b[0m\u001b[1;33m)\u001b[0m\u001b[1;33m\u001b[0m\u001b[1;33m\u001b[0m\u001b[0m\n\u001b[0m\u001b[0;32m     20\u001b[0m \u001b[0mtestes\u001b[0m\u001b[1;33m(\u001b[0m\u001b[1;33m)\u001b[0m\u001b[1;33m\u001b[0m\u001b[1;33m\u001b[0m\u001b[0m\n\u001b[0;32m     21\u001b[0m \u001b[0mt1\u001b[0m \u001b[1;33m=\u001b[0m \u001b[0mtime\u001b[0m\u001b[1;33m.\u001b[0m\u001b[0mtime\u001b[0m\u001b[1;33m(\u001b[0m\u001b[1;33m)\u001b[0m\u001b[1;33m\u001b[0m\u001b[1;33m\u001b[0m\u001b[0m\n",
      "\u001b[1;32m<ipython-input-9-6b3e35ddea9a>\u001b[0m in \u001b[0;36m<lambda>\u001b[1;34m(lista, x, lista_aux)\u001b[0m\n\u001b[0;32m      1\u001b[0m \u001b[1;31m# add_lista = lambda lista, val: lista if lista.append(val) == None else lista\u001b[0m\u001b[1;33m\u001b[0m\u001b[1;33m\u001b[0m\u001b[1;33m\u001b[0m\u001b[0m\n\u001b[0;32m      2\u001b[0m \u001b[0mval_lista\u001b[0m \u001b[1;33m=\u001b[0m \u001b[1;32mlambda\u001b[0m \u001b[0mlista\u001b[0m\u001b[1;33m,\u001b[0m \u001b[0mval\u001b[0m\u001b[1;33m,\u001b[0m \u001b[0mres\u001b[0m\u001b[1;33m:\u001b[0m \u001b[0mres\u001b[0m \u001b[1;32mif\u001b[0m \u001b[0mlista\u001b[0m\u001b[1;33m.\u001b[0m\u001b[0mpop\u001b[0m\u001b[1;33m(\u001b[0m\u001b[1;36m0\u001b[0m\u001b[1;33m)\u001b[0m\u001b[1;33m==\u001b[0m\u001b[1;32mNone\u001b[0m \u001b[1;32mand\u001b[0m \u001b[0minverteLista\u001b[0m\u001b[1;33m(\u001b[0m\u001b[0mlista\u001b[0m\u001b[1;33m,\u001b[0m \u001b[0mval\u001b[0m\u001b[1;33m,\u001b[0m \u001b[0mres\u001b[0m\u001b[1;33m)\u001b[0m  \u001b[1;32melse\u001b[0m \u001b[0mres\u001b[0m\u001b[1;33m\u001b[0m\u001b[1;33m\u001b[0m\u001b[0m\n\u001b[1;32m----> 3\u001b[1;33m \u001b[0minverteLista\u001b[0m \u001b[1;33m=\u001b[0m \u001b[1;32mlambda\u001b[0m \u001b[0mlista\u001b[0m\u001b[1;33m,\u001b[0m \u001b[0mx\u001b[0m\u001b[1;33m,\u001b[0m \u001b[0mlista_aux\u001b[0m\u001b[1;33m:\u001b[0m \u001b[0mlista\u001b[0m \u001b[1;32mif\u001b[0m \u001b[0mlen\u001b[0m\u001b[1;33m(\u001b[0m\u001b[0mlista\u001b[0m\u001b[1;33m)\u001b[0m \u001b[1;33m==\u001b[0m \u001b[1;36m0\u001b[0m \u001b[1;32melse\u001b[0m \u001b[0mlista_aux\u001b[0m \u001b[1;32mif\u001b[0m \u001b[0minverteLista\u001b[0m\u001b[1;33m(\u001b[0m\u001b[1;33m*\u001b[0m\u001b[0mval_lista\u001b[0m\u001b[1;33m(\u001b[0m\u001b[0mlista\u001b[0m\u001b[1;33m,\u001b[0m \u001b[0mlista\u001b[0m\u001b[1;33m[\u001b[0m\u001b[1;36m0\u001b[0m\u001b[1;33m]\u001b[0m\u001b[1;33m,\u001b[0m \u001b[0mlista_aux\u001b[0m\u001b[1;33m)\u001b[0m\u001b[1;33m)\u001b[0m \u001b[1;33m!=\u001b[0m \u001b[1;32mNone\u001b[0m \u001b[1;32melse\u001b[0m \u001b[1;32mNone\u001b[0m\u001b[1;33m\u001b[0m\u001b[1;33m\u001b[0m\u001b[0m\n\u001b[0m\u001b[0;32m      4\u001b[0m \u001b[1;31m#if val_lista(lista, lista[0], lista_aux)==None and len(lista)>0\u001b[0m\u001b[1;33m\u001b[0m\u001b[1;33m\u001b[0m\u001b[1;33m\u001b[0m\u001b[0m\n\u001b[0;32m      5\u001b[0m \u001b[1;33m\u001b[0m\u001b[0m\n",
      "\u001b[1;31mTypeError\u001b[0m: <lambda>() missing 3 required positional arguments: 'lista', 'x', and 'lista_aux'"
     ]
    }
   ],
   "source": [
    "# add_lista = lambda lista, val: lista if lista.append(val) == None else lista\n",
    "val_lista = lambda lista, val, res: res if lista.pop(0)==None and inverteLista(lista, val, res)  else res\n",
    "inverteLista = lambda lista, x=0, lista_aux=[]: lista if len(lista) == 0 else lista_aux if inverteLista(*val_lista(lista, lista[0], lista_aux)) != None else None\n",
    "#if val_lista(lista, lista[0], lista_aux)==None and len(lista)>0\n",
    "\n",
    "def testes():\n",
    "    print('Começando o teste')\n",
    "    assert(inverteLista([1,2,3,4,5]) == [5, 4, 3, 2, 1])\n",
    "    assert(inverteLista([]) == [])\n",
    "    assert(inverteLista([-7,4,-8,0]) == [0,-8,4,-7])\n",
    "    print('Terminou')\n",
    "    \n",
    "def valores():\n",
    "    lista_int = list(map(int,input(\"Digite uma lista de números inteiros separados por espaço: \").split()))\n",
    "    print(lista_int)\n",
    "    return lista_int\n",
    "    \n",
    "t0 = time.time()\n",
    "print(inverteLista(valores()))\n",
    "testes()\n",
    "t1 = time.time()\n",
    "print(\"O cálculo + teste levaram: %.5f s\" %(t1-t0))"
   ]
  },
  {
   "cell_type": "code",
   "execution_count": 66,
   "metadata": {},
   "outputs": [
    {
     "name": "stdout",
     "output_type": "stream",
     "text": [
      "0\n"
     ]
    }
   ],
   "source": [
    "# x = 4\n",
    "# y = 5\n",
    "# iguala = lambda n1, res: res\n",
    "# teste = lambda num: iguala(num, y)\n",
    "\n",
    "# print(teste(x))\n",
    "\n",
    "# lista = [4,3,5]\n",
    "# z = 6\n",
    "# print(lista.append(z))\n",
    "# print(lista)\n",
    "\n",
    "# add_lista = lambda lista, val: lista if lista.append(val) == None else lista\n",
    "# val_lista = lambda lista, val, res: res if  lista.pop(0) else res\n",
    "# inverteLista = lambda lista, x=0, lista_aux=[]: lista if len(lista) == 0 else [x] if val_lista(lista, lista[0], x) is not None and len(lista) == 0 else lista_aux if add_lista\n",
    "# print(inverteLista([1,2,3,4,5]))\n",
    "\n",
    "teste1 = lambda a, b, c: (5, 4)\n",
    "teste2 = lambda \n",
    "\n",
    "# x = 5\n",
    "# if(x is not None):\n",
    "#     print(\"sim\")\n",
    "# else:\n",
    "#     print('nao')"
   ]
  }
 ],
 "metadata": {
  "kernelspec": {
   "display_name": "Python 3",
   "language": "python",
   "name": "python3"
  },
  "language_info": {
   "codemirror_mode": {
    "name": "ipython",
    "version": 3
   },
   "file_extension": ".py",
   "mimetype": "text/x-python",
   "name": "python",
   "nbconvert_exporter": "python",
   "pygments_lexer": "ipython3",
   "version": "3.7.4"
  }
 },
 "nbformat": 4,
 "nbformat_minor": 2
}

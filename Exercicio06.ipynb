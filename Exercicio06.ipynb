{
 "cells": [
  {
   "cell_type": "markdown",
   "metadata": {},
   "source": [
    "1 - Defina a função soma_nat que recebe como argumento um número natural  n e devolve a soma de todos os números naturais até  n.\n",
    "\n",
    "Ex: soma_nat(5) = 15"
   ]
  },
  {
   "cell_type": "code",
   "execution_count": null,
   "metadata": {},
   "outputs": [],
   "source": [
    "def soma_nat(n):\n",
    "    if n==0:\n",
    "        return 0\n",
    "    else:\n",
    "        return n + soma_nat(n-1)\n",
    "#     return 0 if n == 0 else n + soma_nat(n-1)  # versão compactada da de cima\n",
    "\n",
    "print(soma_nat(6))\n",
    "print('Começando o teste')\n",
    "assert(soma_nat(0) == 0)\n",
    "assert(soma_nat(1) == 1)\n",
    "assert(soma_nat(5) == 15)\n",
    "assert(soma_nat(4) == 10)\n",
    "print('Terminou')\n",
    "\n",
    "# método não recursivo\n",
    " \n",
    "# def soma_nat(n):\n",
    "#     lista = list(range(1,n+1))\n",
    "#     return sum(lista)\n",
    "\n",
    "# n = int(input(\"Digite um número inteiro \"))\n",
    "# soma_nat(n)\n"
   ]
  },
  {
   "cell_type": "markdown",
   "metadata": {},
   "source": [
    "2 - Defina a função div que recebe como argumentos dois números naturais  m e  n e devolve o resultado da divisão inteira de  m  por  n. Neste exercício você não pode recorrer às operações aritméticas de multiplicação, divisão e resto da divisão inteira.\n",
    "\n",
    "Ex: div(7,2) = 3"
   ]
  },
  {
   "cell_type": "code",
   "execution_count": null,
   "metadata": {},
   "outputs": [],
   "source": [
    "def div(m, n):\n",
    "    if n==0:\n",
    "        return 'Não dá pra dividir por zero'\n",
    "    else:\n",
    "        if (m >= n):\n",
    "            return 1 + div(m - n, n)\n",
    "    return 0\n",
    "\n",
    "print(div(7, 2))\n",
    "print('Começando o teste')\n",
    "assert(div(7,2) == 3)\n",
    "assert(div(6,2) == 3)\n",
    "assert(div(1,2) == 0)\n",
    "assert(div(0,2) == 0)\n",
    "assert(div(6,7) == 0)\n",
    "assert(div(7,0) == 'Não dá pra dividir por zero')\n",
    "print('Terminou')\n",
    "\n",
    "# método não recursivo\n",
    "# def div(m, n):\n",
    "#     if(n == 0):\n",
    "#         print(\"Não dá pra dividir por 0\")\n",
    "#     else:\n",
    "#         if(m >= 0 and n > 0):\n",
    "#             counter = 0\n",
    "#             res = 0\n",
    "#             while(counter < m):\n",
    "#                 if((counter+n) <= m):\n",
    "#                     counter += n\n",
    "#                     res += 1\n",
    "#                 else:\n",
    "#                     break\n",
    "#         else:\n",
    "#             if(m < 0 and n > 0):\n",
    "#                 n = n - n - n\n",
    "#                 counter = 0\n",
    "#                 res = 0\n",
    "#                 while(counter > m):\n",
    "#                     if((counter+n) >= m):\n",
    "#                         counter += n\n",
    "#                         res -= 1\n",
    "#                     else:\n",
    "#                         break\n",
    "#             elif(m >= 0 and n < 0):\n",
    "#                 m = m - m - m\n",
    "#                 counter = 0\n",
    "#                 res = 0\n",
    "#                 while(counter > m):\n",
    "#                     if((counter+n) >= m):\n",
    "#                         counter += n\n",
    "#                         res -= 1\n",
    "#                     else:\n",
    "#                         break\n",
    "#             else:\n",
    "#                 counter = 0\n",
    "#                 res = 0\n",
    "#                 while(counter > m):\n",
    "#                     if((counter+n) >= m):\n",
    "#                         counter += n\n",
    "#                         res += 1\n",
    "#                     else:\n",
    "#                         break\n",
    "#         return res\n",
    "    \n",
    "# div(-7, 2)"
   ]
  },
  {
   "cell_type": "markdown",
   "metadata": {},
   "source": [
    "3 - Defina a função prim_alg que recebe como argumento um número natural e devolve o primeiro algarismo (o mais significativo) na representação decimal de n.\n",
    "\n",
    "Ex: prim_alg(5649) = 5\n",
    "Ex: prim_alg(7) = 7"
   ]
  },
  {
   "cell_type": "code",
   "execution_count": null,
   "metadata": {},
   "outputs": [],
   "source": [
    "def prim_alg(n):\n",
    "    if(int(n/10) > 1):\n",
    "        return prim_alg(n / 10)\n",
    "    return int(n)\n",
    "\n",
    "print(prim_alg(891723.878))\n",
    "print(prim_alg(7))\n",
    "\n",
    "print('Começando o teste')\n",
    "assert(prim_alg(8045540) == 8)\n",
    "assert(prim_alg(2) == 2)\n",
    "assert(prim_alg(0.245) == 0)\n",
    "print('Terminou')\n",
    "\n",
    "# método não recursivo\n",
    "\n",
    "# def prim_alg(number):\n",
    "#     if(type(number) == int or type(number) == float):\n",
    "#         print(str(number)[0])\n",
    "#     else:\n",
    "#         print(\"Só aceita int ou float\")"
   ]
  },
  {
   "cell_type": "markdown",
   "metadata": {},
   "source": [
    "4 - Defina a função prod_lista que recebe como argumento uma lista de inteiros e devolve o produto dos seus elementos.\n",
    "\n",
    "Ex: prod_lista([1,2,3,4,5,6]) = 720"
   ]
  },
  {
   "cell_type": "code",
   "execution_count": null,
   "metadata": {},
   "outputs": [],
   "source": [
    "def prod_lista(lista):\n",
    "    if(lista):\n",
    "        prod = lista[0]\n",
    "        lista.pop(0)\n",
    "        return prod * prod_lista(lista)\n",
    "    return 1\n",
    "\n",
    "inteiros = list(map(int,input(\"Digite uma lista de números inteiros separados por espaço: \").split()))\n",
    "print(prod_lista(inteiros))\n",
    "\n",
    "print('Começando o teste')\n",
    "assert(prod_lista([1,2,3,4,5]) == 120)\n",
    "assert(prod_lista([4,3,8]) == 96)\n",
    "assert(prod_lista([0,4,5,6]) == 0)\n",
    "print('Terminou')\n",
    "\n",
    "# método não recursivo\n",
    "\n",
    "# def prod_lista(lista):\n",
    "#     produto = 1\n",
    "#     for x in lista:\n",
    "#         produto *= x\n",
    "#     print(produto)\n",
    "    \n",
    "# inteiros = list(map(int,input(\"Digite uma lista de números inteiros separados por espaço: \").split()))\n",
    "# prod_lista(inteiros)"
   ]
  },
  {
   "cell_type": "markdown",
   "metadata": {},
   "source": [
    "5 - Defina a função contem_parQ que recebe como argumento uma lista de números inteiros  w e devolve True se w contém um número par e False em caso contrário.\n",
    "\n",
    "Ex: contem_parQ([2,3,1,2,3,4]) = True\n",
    "Ex: contem_parQ([1,3,5,7]) = False"
   ]
  },
  {
   "cell_type": "code",
   "execution_count": null,
   "metadata": {},
   "outputs": [],
   "source": [
    "def contem_parQ(w):\n",
    "    if(w):\n",
    "        if(w[0]%2 == 0):\n",
    "            return True\n",
    "        w.pop(0)\n",
    "        return contem_parQ(w)\n",
    "    return False\n",
    "    \n",
    "inteiros = list(map(int,input(\"Digite uma lista de números inteiros separados por espaço: \").split()))\n",
    "print(contem_parQ(inteiros))\n",
    "\n",
    "print('Começando o teste')\n",
    "assert(contem_parQ([1,2,3,4,5]) == True)\n",
    "assert(contem_parQ([5,3,8]) == True)\n",
    "assert(contem_parQ([4,5,3,]) == True)\n",
    "assert(contem_parQ([0,1,5,3]) == True)\n",
    "assert(contem_parQ([1,55,31]) == False)\n",
    "print('Terminou')\n",
    "\n",
    "# método não recursivo\n",
    "\n",
    "# def contem_parQ(w):\n",
    "#     for x in w:\n",
    "#         if(x%2 == 0):\n",
    "#             return True\n",
    "#     return False\n",
    "\n",
    "# lista_int = list(map(int,input(\"Digite uma lista de números inteiros separados por espaço: \").split()))           \n",
    "# contem_parQ(lista_int)"
   ]
  },
  {
   "cell_type": "markdown",
   "metadata": {},
   "source": [
    "6 - Defina a função todos_imparesQ que recebe como argumento uma lista de números inteiros w e devolve True se  w contém apenas números ímpares e False em caso contrário.\n",
    "\n",
    "Ex: todos_imparesQ([1,3,5,7]) = True\n",
    "Ex: todos_imparesQ([]) = True\n",
    "Ex: todos_imparesQ([1,2,3,4,5]) = False"
   ]
  },
  {
   "cell_type": "code",
   "execution_count": null,
   "metadata": {},
   "outputs": [],
   "source": [
    "def todos_imparesQ(w):\n",
    "    if(w):\n",
    "        if(w[0]%2 == 0):\n",
    "            return False\n",
    "        else:\n",
    "            w.pop(0)\n",
    "            return todos_imparesQ(w)\n",
    "    return True\n",
    "    \n",
    "inteiros = list(map(int,input(\"Digite uma lista de números inteiros separados por espaço: \").split()))\n",
    "print(todos_imparesQ(inteiros))\n",
    "\n",
    "print('Começando o teste')\n",
    "assert(todos_imparesQ([1,2,3,4,5]) == False)\n",
    "assert(todos_imparesQ([5,3,8]) == False)\n",
    "assert(todos_imparesQ([4,5,3,]) == False)\n",
    "assert(todos_imparesQ([0,1,5,3]) == False)\n",
    "assert(todos_imparesQ([1,55,31]) == True)\n",
    "print('Terminou')"
   ]
  },
  {
   "cell_type": "markdown",
   "metadata": {},
   "source": [
    "7 - Defina a função pertenceQ que recebe como argumentos uma lista de números inteiros  w  e um número inteiro  n  e devolve True se  n  ocorre em  w  e False em caso contrário.\n",
    "\n",
    "Ex: pertenceQ([1,2,3],1) = True\n",
    "Ex: pertenceQ([1,2,3],2) = True\n",
    "Ex: pertenceQ([1,2,3],3) = True\n",
    "Ex: pertenceQ([1,2,3],4) = False"
   ]
  },
  {
   "cell_type": "code",
   "execution_count": null,
   "metadata": {},
   "outputs": [],
   "source": [
    "def pertenceQ(w, n):\n",
    "    if(w):\n",
    "        if(w[0] == n):\n",
    "            return True\n",
    "        w.pop(0)\n",
    "        return pertenceQ(w, n)\n",
    "    return False\n",
    "    \n",
    "inteiros = list(map(int,input(\"Digite uma lista de números inteiros separados por espaço: \").split()))\n",
    "verificador = int(input(\"Digite um número inteiro para verificar se está na lista: \"))\n",
    "print(pertenceQ(inteiros, verificador))\n",
    "\n",
    "print('Começando o teste')\n",
    "assert(pertenceQ([1,2,3,4,5],6) == False)\n",
    "assert(pertenceQ([5,3,8],-5) == False)\n",
    "assert(pertenceQ([4,5,3,],5) == True)\n",
    "assert(pertenceQ([0,1,5,3],0) == True)\n",
    "assert(pertenceQ([1,55,31],31) == True)\n",
    "assert(pertenceQ([1,-55,31],-55) == True)\n",
    "print('Terminou')"
   ]
  },
  {
   "cell_type": "markdown",
   "metadata": {},
   "source": [
    "8 - Defina a função junta que recebe como argumentos duas listas de números inteiros  w1  e  w2  e devolve a concatenação de  w1  com  w2 .\n",
    "\n",
    "Ex: junta([1,2,3],[4,5,6]) = [1, 2, 3, 4, 5, 6]\n",
    "Ex: junta([],[4,5,6]) = [4, 5, 6]\n",
    "Ex: junta([1,2,3],[]) = [1, 2, 3]"
   ]
  },
  {
   "cell_type": "code",
   "execution_count": null,
   "metadata": {},
   "outputs": [],
   "source": [
    "def junta(w1, w2):\n",
    "    if(w2):\n",
    "        w1.append(w2[0])\n",
    "        w2.pop(0)\n",
    "        return junta(w1,w2)\n",
    "    else:\n",
    "        return w1\n",
    "    \n",
    "inteiros1 = list(map(int,input(\"Digite uma lista de números inteiros separados por espaço: \").split()))\n",
    "inteiros2 = list(map(int,input(\"Digite uma segunda lista de números inteiros separados por espaço: \").split()))\n",
    "print(junta(inteiros1, inteiros2))\n",
    "\n",
    "print('Começando o teste')\n",
    "assert(junta([1,2,3],[4,5,6]) == [1, 2, 3, 4, 5, 6])\n",
    "assert(junta([],[4,5,6]) == [4, 5, 6])\n",
    "assert(junta([1,2,3],[]) == [1, 2, 3])\n",
    "assert(junta([100,20,30],[12,-5,0]) == [100,20,30,12,-5,0])\n",
    "print('Terminou')"
   ]
  },
  {
   "cell_type": "markdown",
   "metadata": {},
   "source": [
    "9 - Defina a função temPrimoQ que recebe como argumento uma lista de listas de números inteiros  w  e devolve True se alguma das sublistas  w  tem um número primo e False em caso contrário.\n",
    "\n",
    "Ex: temPrimoQ([[4,4,4,4],[5,4,6,7],[2,4,3]]) = True\n",
    "Ex: temPrimoQ([[4,4,4,4],[4,4,4],[],[4]]) = False"
   ]
  },
  {
   "cell_type": "code",
   "execution_count": 4,
   "metadata": {},
   "outputs": [
    {
     "name": "stdout",
     "output_type": "stream",
     "text": [
      "Digite uma lista de números inteiros separados por espaço: 1 2 3\n",
      "Deseja criar uma nova sublista de inteiros? sim\n",
      "Digite a sublista de números inteiros separados por espaço: 4 5 6\n",
      "Deseja criar uma nova sublista de inteiros? nao\n",
      "[[1, 2, 3], [4, 5, 6]]\n",
      "True\n",
      "Começando o teste\n",
      "Terminou\n"
     ]
    }
   ],
   "source": [
    "def temPrimoQ(w):\n",
    "    if(w):\n",
    "        if(w[0]):\n",
    "            if(isPrimo(w[0][0])):\n",
    "                return True\n",
    "            w[0].pop(0)\n",
    "            return temPrimoQ(w)\n",
    "        w.pop(0)\n",
    "        return temPrimoQ(w)\n",
    "    return False\n",
    "            \n",
    "def isPrimo(x):\n",
    "    if(x == 1 or x == 0):\n",
    "        return False\n",
    "    else:\n",
    "        mult=0\n",
    "        for count in range(2,x):\n",
    "            if (x % count == 0):\n",
    "                mult += 1\n",
    "        if(mult==0):\n",
    "            return True\n",
    "        else:\n",
    "            return False\n",
    "\n",
    "def testes():\n",
    "    print('Começando o teste')\n",
    "    assert(temPrimoQ([[4,4,4,4],[5,4,6,7],[2,4,3]]) == True)\n",
    "    assert(temPrimoQ([[4,4,4,4],[4,4,4],[],[4]]) == False)\n",
    "    assert(temPrimoQ([[4,4,4,4],[],[5,4,6,7],[2,4,3]]) == True)\n",
    "    assert(temPrimoQ([[4,4,4,4],[4,4,4],[],[4],[0,1]]) == False)\n",
    "    print('Terminou')\n",
    "    \n",
    "def valores():\n",
    "    positive = [\"sim\", \"yes\", \"true\", \"s\", \"y\"]\n",
    "    adiciona = True\n",
    "    inteiros = [list(map(int,input(\"Digite uma lista de números inteiros separados por espaço: \").split()))]\n",
    "    while(adiciona):\n",
    "        menu = input(\"Deseja criar uma nova sublista de inteiros? \")\n",
    "        if(menu in positive):\n",
    "            new_list = list(map(int,input(\"Digite a sublista de números inteiros separados por espaço: \").split()))\n",
    "            inteiros.append(new_list)\n",
    "            new_list = []\n",
    "        else:\n",
    "            adiciona = False\n",
    "    print(inteiros)\n",
    "    return inteiros\n",
    "    \n",
    "print(temPrimoQ(valores()))\n",
    "testes()"
   ]
  },
  {
   "cell_type": "markdown",
   "metadata": {},
   "source": [
    "10 - Defina a função inverteLista que recebe como argumento uma lista  w e devolve a mesma lista mas invertida.\n",
    "\n",
    "Ex: inverteLista([1,2,3,4,5]) = [5, 4, 3, 2, 1]\n",
    "Ex: inverteLista([])"
   ]
  },
  {
   "cell_type": "code",
   "execution_count": 5,
   "metadata": {},
   "outputs": [
    {
     "name": "stdout",
     "output_type": "stream",
     "text": [
      "Digite uma lista de números inteiros separados por espaço: 1 3 4 9\n",
      "[1, 3, 4, 9]\n",
      "[9, 4, 3, 1]\n",
      "Começando o teste\n",
      "Terminou\n"
     ]
    }
   ],
   "source": [
    "def inverteLista(w):\n",
    "    if(w):\n",
    "        x = w[0]\n",
    "        w.pop(0)\n",
    "        if(not w):\n",
    "            return [x]\n",
    "        new_w = inverteLista(w)\n",
    "        new_w.append(x)\n",
    "        return new_w\n",
    "    return w\n",
    "\n",
    "def testes():\n",
    "    print('Começando o teste')\n",
    "    assert(inverteLista([1,2,3,4,5]) == [5, 4, 3, 2, 1])\n",
    "    assert(inverteLista([]) == [])\n",
    "    assert(inverteLista([-7,4,-8,0]) == [0,-8,4,-7])\n",
    "    print('Terminou')\n",
    "    \n",
    "def valores():\n",
    "    lista_int = list(map(int,input(\"Digite uma lista de números inteiros separados por espaço: \").split()))\n",
    "    print(lista_int)\n",
    "    return lista_int\n",
    "    \n",
    "print(inverteLista(valores()))\n",
    "testes()"
   ]
  }
 ],
 "metadata": {
  "kernelspec": {
   "display_name": "Python 3",
   "language": "python",
   "name": "python3"
  },
  "language_info": {
   "codemirror_mode": {
    "name": "ipython",
    "version": 3
   },
   "file_extension": ".py",
   "mimetype": "text/x-python",
   "name": "python",
   "nbconvert_exporter": "python",
   "pygments_lexer": "ipython3",
   "version": "3.7.4"
  }
 },
 "nbformat": 4,
 "nbformat_minor": 2
}

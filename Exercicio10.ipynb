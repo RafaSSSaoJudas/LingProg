{
 "cells": [
  {
   "cell_type": "markdown",
   "metadata": {},
   "source": [
    "Os exercícios abaixo são os mesmos do notebook da aula03. Implemente-os usando comprehensions, map, filter e lambdas. Utilizar maybe monads para fazer o tratamento de exceções quando necessário."
   ]
  },
  {
   "cell_type": "code",
   "execution_count": 12,
   "metadata": {},
   "outputs": [],
   "source": [
    "from time import time\n",
    "\n",
    "def maybeMonad(fnc):\n",
    "    def inner(*args):\n",
    "        for a in args:\n",
    "            if isinstance(a, Exception):\n",
    "                return None\n",
    "        try:\n",
    "            return fnc(*args)\n",
    "        except Exception as e:\n",
    "            return None\n",
    "    return inner"
   ]
  },
  {
   "cell_type": "markdown",
   "metadata": {},
   "source": [
    "1 - Faça um programa que leia 5 números e informe o maior número."
   ]
  },
  {
   "cell_type": "code",
   "execution_count": 23,
   "metadata": {},
   "outputs": [
    {
     "name": "stdout",
     "output_type": "stream",
     "text": [
      "Digite o 1º número: 8\n",
      "Digite o 2º número: 9.5\n",
      "Digite o 3º número: 12.45\n",
      "Digite o 4º número: 2\n",
      "Digite o 5º número: 7\n",
      "O maior número é:  12.45\n",
      "Começando o teste...\n",
      "Terminou\n",
      "O cálculo + teste levaram: 0.00306 s\n"
     ]
    }
   ],
   "source": [
    "max_number = maybeMonad(lambda lista: sorted(lista, key=float)[-1])\n",
    "\n",
    "num_list = [float(input(f\"Digite o {x+1}º número: \")) for x in range(0,5)]\n",
    "\n",
    "t0 = time()\n",
    "print(\"O maior número é: \", max_number(num_list))\n",
    "\n",
    "print('Começando o teste...')\n",
    "assert(max_number([4,8,2,6,9]) == 9)\n",
    "assert(max_number(['4','8','b','6','9']) == None)\n",
    "assert(max_number(None) == None)\n",
    "assert(max_number([4.65,8.12,12.8,6.9,9]) == 12.8)\n",
    "print('Terminou')\n",
    "t1 = time()\n",
    "print(\"O cálculo + teste levaram: %.5f s\" %(t1-t0))"
   ]
  },
  {
   "cell_type": "markdown",
   "metadata": {},
   "source": [
    "2 - Faça um programa que leia 5 números e informe a soma e a média dos números."
   ]
  },
  {
   "cell_type": "code",
   "execution_count": 58,
   "metadata": {},
   "outputs": [
    {
     "name": "stdout",
     "output_type": "stream",
     "text": [
      "Digite o 1º número: 5.78\n",
      "Digite o 2º número: 6.98\n",
      "Digite o 3º número: 8.34\n",
      "Digite o 4º número: 6.98\n",
      "Digite o 5º número: 2.41\n",
      "A soma dos números é: 30.49\n",
      "A média dos números é: 6.10\n",
      "Começando o teste...\n",
      "Terminou\n",
      "O cálculo + teste levaram: 0.00200 s\n"
     ]
    }
   ],
   "source": [
    "sum_avrg = maybeMonad(lambda lista: (sum_list(lista), avrg_list(lista)))\n",
    "sum_list = maybeMonad(lambda lista: sum(lista))\n",
    "avrg_list = maybeMonad(lambda lista: sum_list(lista)/len(lista))\n",
    "\n",
    "num_list = [float(input(f\"Digite o {x+1}º número: \")) for x in range(0,5)]\n",
    "\n",
    "t0 = time()\n",
    "\n",
    "# print(f\"A soma dos números é: {sum_avrg(num_list)[0]}\\nA média dos números é: {sum_avrg(num_list)[1]}\")\n",
    "print(f\"A soma dos números é: {sum_list(num_list):.2f}\\nA média dos números é: {avrg_list(num_list):.2f}\")\n",
    "\n",
    "print('Começando o teste...')\n",
    "assert(sum_avrg([4,9,8,7,6.3]) == (34.3,6.859999999999999))\n",
    "assert(sum_avrg([9,7,7,8,3]) == (34,6.8))\n",
    "assert(sum_avrg(['4','5','7',3]) == (None,None))\n",
    "assert(sum_avrg(None) == (None,None))\n",
    "\n",
    "print('Terminou')\n",
    "t1 = time()\n",
    "print(\"O cálculo + teste levaram: %.5f s\" %(t1-t0))"
   ]
  },
  {
   "cell_type": "markdown",
   "metadata": {},
   "source": [
    "3 - Faça um programa que imprima na tela apenas os números ímpares entre 1 e 50."
   ]
  },
  {
   "cell_type": "code",
   "execution_count": 76,
   "metadata": {},
   "outputs": [
    {
     "name": "stdout",
     "output_type": "stream",
     "text": [
      "[1, 3, 5, 7, 9, 11, 13, 15, 17, 19, 21, 23, 25, 27, 29, 31, 33, 35, 37, 39, 41, 43, 45, 47, 49]\n",
      "1\n",
      "3\n",
      "5\n",
      "7\n",
      "9\n",
      "11\n",
      "13\n",
      "15\n",
      "17\n",
      "19\n",
      "21\n",
      "23\n",
      "25\n",
      "27\n",
      "29\n",
      "31\n",
      "33\n",
      "35\n",
      "37\n",
      "39\n",
      "41\n",
      "43\n",
      "45\n",
      "47\n",
      "49\n"
     ]
    }
   ],
   "source": [
    "# USANDO LIST COMPREHENSION\n",
    "\n",
    "num_list = [x for x in range(1,51) if x%2]\n",
    "\n",
    "print(f\"{num_list}\")\n",
    "\n",
    "for num in num_list:\n",
    "    print(num)"
   ]
  },
  {
   "cell_type": "code",
   "execution_count": 75,
   "metadata": {},
   "outputs": [
    {
     "name": "stdout",
     "output_type": "stream",
     "text": [
      "1\n",
      "3\n",
      "5\n",
      "7\n",
      "9\n",
      "11\n",
      "13\n",
      "15\n",
      "17\n",
      "19\n",
      "21\n",
      "23\n",
      "25\n",
      "27\n",
      "29\n",
      "31\n",
      "33\n",
      "35\n",
      "37\n",
      "39\n",
      "41\n",
      "43\n",
      "45\n",
      "47\n",
      "49\n",
      "O cálculo levou: 0.00193 s\n"
     ]
    }
   ],
   "source": [
    "# USANDO FILTER E LAMBDA\n",
    "\n",
    "is_odd = maybeMonad(lambda num : num % 2)\n",
    "\n",
    "t0 = time()\n",
    "\n",
    "list_filtered = filter(is_odd, range(1,51))\n",
    "\n",
    "for num in list_filtered:\n",
    "    print(num)\n",
    "\n",
    "t1 = time()\n",
    "print(\"O cálculo levou: %.5f s\" %(t1-t0))"
   ]
  },
  {
   "cell_type": "markdown",
   "metadata": {},
   "source": [
    "4 - Desenvolva um gerador de tabuada, capaz de gerar a tabuada de qualquer número inteiro entre 1 a 10. O usuário deve informar de qual numero ele deseja ver a tabuada. A saída deve ser conforme o exemplo abaixo:\n",
    "\n",
    "Tabuada de 5:\n",
    "5 X 1 = 5\n",
    "5 X 2 = 10\n",
    "...\n",
    "5 X 10 = 50"
   ]
  },
  {
   "cell_type": "code",
   "execution_count": 79,
   "metadata": {},
   "outputs": [
    {
     "name": "stdout",
     "output_type": "stream",
     "text": [
      "Deseja ver a tabuada de qual número? 5\n",
      "A tabuada do 5 é:\n",
      "5 X 1 = 5\n",
      "5 X 2 = 10\n",
      "5 X 3 = 15\n",
      "5 X 4 = 20\n",
      "5 X 5 = 25\n",
      "5 X 6 = 30\n",
      "5 X 7 = 35\n",
      "5 X 8 = 40\n",
      "5 X 9 = 45\n",
      "5 X 10 = 50\n",
      "\n",
      "O programa levou 0.00096 s para gerar a tabuada!\n"
     ]
    }
   ],
   "source": [
    "gera_tabuada = maybeMonad(lambda num: print(f\"{init_num} X {num} = {init_num*num}\"))\n",
    "\n",
    "init_num = int(input('Deseja ver a tabuada de qual número? '))\n",
    "\n",
    "t0 = time()\n",
    "\n",
    "print(f\"A tabuada do {init_num} é:\")\n",
    "tabuada = list(map(gera_tabuada, range(1,11)))\n",
    "\n",
    "t1 = time()\n",
    "print(\"\\nO programa levou %.5f s para gerar a tabuada!\" %(t1-t0))"
   ]
  },
  {
   "cell_type": "markdown",
   "metadata": {},
   "source": [
    "5 - Faça um programa que calcule o fatorial de um número inteiro fornecido pelo usuário.\n",
    "Ex.: 5!=5.4.3.2.1=120"
   ]
  },
  {
   "cell_type": "code",
   "execution_count": 95,
   "metadata": {},
   "outputs": [
    {
     "name": "stdout",
     "output_type": "stream",
     "text": [
      "Digite o número para calcular seu fatorial: 5\n",
      "O fatorial de 5 é: 120\n"
     ]
    }
   ],
   "source": [
    "#USANDO LAMBDA RECURSIVO\n",
    "fatorial = maybeMonad(lambda num: 1 if num==1 else num*fatorial(num-1))\n",
    "\n",
    "number = int(input(\"Digite o número para calcular seu fatorial: \"))\n",
    "\n",
    "print(f\"O fatorial de {number} é: {fatorial(number)}\")"
   ]
  },
  {
   "cell_type": "code",
   "execution_count": 101,
   "metadata": {},
   "outputs": [
    {
     "name": "stdout",
     "output_type": "stream",
     "text": [
      "Digite o número para calcular seu fatorial: 5\n",
      "O fatorial de 5 com COMPREHENSION é: 120\n",
      "O fatorial de 5 com MAP é: 120\n",
      "\n",
      "Todos os fatoriais até 5\n",
      "O fatorial de 0 é: 1\n",
      "O fatorial de 1 é: 1\n",
      "O fatorial de 2 é: 2\n",
      "O fatorial de 3 é: 6\n",
      "O fatorial de 4 é: 24\n",
      "O fatorial de 5 é: 120\n"
     ]
    }
   ],
   "source": [
    "#USANDO LAMBDA, COMPREHENSION E MAP\n",
    "fatorial = maybeMonad(lambda num: 1 if num==1 or num==0 else num*fatorial(num-1))\n",
    "\n",
    "number = int(input(\"Digite o número para calcular seu fatorial: \"))\n",
    "\n",
    "# FATORIAL COM LIST COMPREHENSION\n",
    "fact = 1\n",
    "for x in range(1, number+1):\n",
    "    fact *= x\n",
    "print(f'O fatorial de {number} com COMPREHENSION é: {fact}')\n",
    "\n",
    "# FATORIAL USANDO MAP\n",
    "print(f\"O fatorial de {number} com MAP é: {list(map(fatorial, range(1, number+1)))[-1]}\")\n",
    "\n",
    "# MOSTRAR TODOS OS FATORIAIS ATÉ O NÚMERO\n",
    "print(f\"\\nTodos os fatoriais até {number}\")\n",
    "for x,y in enumerate(map(fatorial, range(0,number+1))):\n",
    "    print(f\"O fatorial de {x} é: {y}\")"
   ]
  },
  {
   "cell_type": "markdown",
   "metadata": {},
   "source": [
    "6 - Faça um programa que receba o valor de uma dívida e mostre uma tabela com os seguintes dados: valor da dívida, valor dos juros, quantidade de parcelas e valor da parcela. Os juros e a quantidade de parcelas seguem a tabela abaixo:\n",
    "\n",
    "Quantidade de Parcelas   % de Juros sobre o valor inicial da dívida\n",
    "1                        0\n",
    "3                        10\n",
    "6                        15\n",
    "9                        20\n",
    "12                       25\n",
    "\n",
    "Exemplo de saída do programa:\n",
    "\n",
    "Valor da Dívida   Valor dos Juros   Quantidade de Parcelas   Valor da Parcela\n",
    "R$ 1.000,00       0                 1                        R$ 1.000,00\n",
    "R$ 1.100,00       100               3                        R$ 366,00\n",
    "R$ 1.150,00       150               6                        R$ 191,67"
   ]
  },
  {
   "cell_type": "code",
   "execution_count": 149,
   "metadata": {},
   "outputs": [
    {
     "name": "stdout",
     "output_type": "stream",
     "text": [
      "Digite o valor da dívida: 1450\n",
      "Valor da Dívida Valor dos Juros Quantidade de Parcelas  Valor da Parcela\n",
      " R$    1450.00   R$       0.00     1                     R$    1450.00\n",
      " R$    1595.00   R$     145.00     3                     R$     531.67\n",
      " R$    1667.50   R$     217.50     6                     R$     277.92\n",
      " R$    1740.00   R$     290.00     9                     R$     193.33\n",
      " R$    1812.50   R$     362.50    12                     R$     151.04\n"
     ]
    }
   ],
   "source": [
    "divida = float(input(\"Digite o valor da dívida: \"))\n",
    "valor=0.0\n",
    "juros = 0.0\n",
    "v_parcelo = 0.0\n",
    "parcela_juros = [(1,0), (3,10), (6,15), (9,20), (12,25)]\n",
    "print(\"Valor da Dívida Valor dos Juros Quantidade de Parcelas  Valor da Parcela\")\n",
    "for parcela,y in parcela_juros:\n",
    "    juros = y/100*divida\n",
    "    valor = divida + juros\n",
    "    v_parcela = valor/parcela\n",
    "    print(\n",
    "        f\" R$ {valor:10.2f}   R$ {juros:10.2f}   {parcela:3}                     R$ {v_parcela:10.2f}\"\n",
    "    )"
   ]
  },
  {
   "cell_type": "code",
   "execution_count": 236,
   "metadata": {},
   "outputs": [
    {
     "name": "stdout",
     "output_type": "stream",
     "text": [
      "Valor da dívida: 1250\n",
      "Valor da Dívida Valor dos Juros Quantidade de Parcelas  Valor da Parcela\n",
      " R$    1250.00   R$       0.00     1                     R$    1250.00\n",
      " R$    1375.00   R$     125.00     3                     R$     458.33\n",
      " R$    1437.50   R$     187.50     6                     R$     239.58\n",
      " R$    1500.00   R$     250.00     9                     R$     166.67\n",
      " R$    1562.50   R$     312.50    12                     R$     130.21\n",
      "\n",
      "Tabela gerada com sucesso!\n"
     ]
    }
   ],
   "source": [
    "plans = [\n",
    "        {\"parcels\": 1, \"tax\": 0},\n",
    "        {\"parcels\": 3, \"tax\": 0.1},\n",
    "        {\"parcels\": 6, \"tax\": 0.15},\n",
    "        {\"parcels\": 9, \"tax\": 0.2},\n",
    "        {\"parcels\": 12, \"tax\": 0.25}\n",
    "]\n",
    "\n",
    "owed_price = float(input(\"Valor da dívida: \")) \n",
    "\n",
    "print(\"Valor da Dívida Valor dos Juros Quantidade de Parcelas  Valor da Parcela\")\n",
    "\n",
    "def table_func(plan):\n",
    "    tax_value = owed_price * plan[\"tax\"]\n",
    "    debt_value = tax_value + owed_price\n",
    "    parcels = plan[\"parcels\"]\n",
    "    parcel_value = debt_value/parcels\n",
    "    \n",
    "    print(\n",
    "        f\" R$ {debt_value:10.2f}   R$ {tax_value:10.2f}   {parcels:3}                     R$ {parcel_value:10.2f}\"\n",
    "    )\n",
    "\n",
    "table_func = maybeMonad(table_func)\n",
    "\n",
    "list(map(table_func, plans))\n",
    "print(\"\\nTabela gerada com sucesso!\")"
   ]
  },
  {
   "cell_type": "markdown",
   "metadata": {},
   "source": [
    "7 - Faça um programa que mostre os n termos da Série a seguir:\n",
    "S = 1/1 + 2/3 + 3/5 + 4/7 + 5/9 + ... + n/m.\n",
    "Imprima no final a soma da série."
   ]
  },
  {
   "cell_type": "code",
   "execution_count": 237,
   "metadata": {},
   "outputs": [
    {
     "name": "stdout",
     "output_type": "stream",
     "text": [
      "Quantos números deseja observar nesta sequência?: 5\n",
      "3.393650793650793\n"
     ]
    }
   ],
   "source": [
    "iterations = int(input(\"Quantos números deseja observar nesta sequência?: \"))\n",
    "\n",
    "result = 0\n",
    "\n",
    "for num in range(0, iterations):\n",
    "     result += (1 + num * 1)/(1 + num * 2)\n",
    "\n",
    "print(result)\n"
   ]
  },
  {
   "cell_type": "code",
   "execution_count": 242,
   "metadata": {},
   "outputs": [
    {
     "name": "stdout",
     "output_type": "stream",
     "text": [
      "Digite quantos números deseja sequenciar: 5\n",
      "S = 1/1 + 2/3 + 3/5 + 4/7 + 5/9 = 3.393650793650793\n"
     ]
    }
   ],
   "source": [
    "ammount = int(input(\"Digite quantos números deseja sequenciar: \"))\n",
    "\n",
    "result=0\n",
    "answer=''\n",
    "for num in range(0, ammount):\n",
    "    result += (1 + num)/(1 + num * 2)\n",
    "    answer += f\"{1 + num}/{1 + num * 2} + \"\n",
    "    \n",
    "#     if num == 1:\n",
    "#         result += num/num\n",
    "#         answer += f\"{num}/{num}\"\n",
    "#     else:\n",
    "#         result += num/(num*2-1)\n",
    "#         answer += f\" + {num}/{(num*2-1)}\"\n",
    "\n",
    "print(f\"S = {answer[:-3]} = {result}\")\n"
   ]
  },
  {
   "cell_type": "markdown",
   "metadata": {},
   "source": [
    "8 - Mesma letra: Escreva uma função que receba uma string com duas palavras e retorne True se ambas palavras começarem com a mesma letra. Exemplo:\n",
    "\n",
    "mesma_letra('Cão covarde') -> True\n",
    "mesma_letra('Vira Lata') -> False"
   ]
  },
  {
   "cell_type": "code",
   "execution_count": 218,
   "metadata": {},
   "outputs": [
    {
     "name": "stdout",
     "output_type": "stream",
     "text": [
      "Digite duas palavras: Roleta russa\n",
      "True\n"
     ]
    }
   ],
   "source": [
    "mesma_letra = maybeMonad(lambda palavras: True if palavras[0][0] == palavras[1][0] else False)\n",
    "\n",
    "duas_palavras = input(\"Digite duas palavras: \").lower().split(' ')\n",
    "\n",
    "assert(mesma_letra(['roleta','russa']))\n",
    "assert(not mesma_letra(['roleta','bola']))\n",
    "assert(mesma_letra(['roleta']) == None)\n",
    "assert(mesma_letra(('roleta',2)) == None)\n",
    "\n",
    "print(mesma_letra(duas_palavras))"
   ]
  },
  {
   "cell_type": "markdown",
   "metadata": {},
   "source": [
    "9 - Mestre Yoda: Dada uma sentença, a função deve retornar a sentença com as palavras na ordem reversa. Exemplo:\n",
    "\n",
    "mestre_yoda('Eu estou em casa') --> 'casa em estou Eu'\n",
    "mestre_yoda('Estamos prontos') --> 'prontos Estamos'"
   ]
  },
  {
   "cell_type": "code",
   "execution_count": 219,
   "metadata": {},
   "outputs": [
    {
     "name": "stdout",
     "output_type": "stream",
     "text": [
      "Digite uma sentença: Estou muito feliz\n",
      "Estou muito feliz\n",
      "Feliz muito estou\n"
     ]
    }
   ],
   "source": [
    "mestre_yoda = maybeMonad(lambda frase: \" \".join(list(reversed(frase.lower().split(\" \")))).capitalize())\n",
    "\n",
    "sentenca = input(\"Digite uma sentença: \")\n",
    "\n",
    "print(f\"{sentenca}\\n{mestre_yoda(sentenca)}\")"
   ]
  },
  {
   "cell_type": "markdown",
   "metadata": {},
   "source": [
    "10 - Espião: Escreva uma função que receba uma lista de inteiros e retorne True se contém um 007 em ordem, mesmo\n",
    "que não contínuo. Exemplo:\n",
    "espiao([1,2,4,0,0,7,5]) --> True\n",
    "espiao([1,0,2,4,0,5,7]) --> True\n",
    "espiao([1,7,2,4,0,5,0]) --> False"
   ]
  },
  {
   "cell_type": "code",
   "execution_count": 229,
   "metadata": {},
   "outputs": [
    {
     "name": "stdout",
     "output_type": "stream",
     "text": [
      "Digite uma lista de números separados por espaço: 5 9 4 7 6 1 0 8 7\n",
      "False\n"
     ]
    }
   ],
   "source": [
    "def espiao(lista):\n",
    "    primeiro_0 = False\n",
    "    segundo_0 = False\n",
    "    for num in lista:\n",
    "        if num ==7 and segundo_0 == True:\n",
    "            return True\n",
    "        if num == 0 and not segundo_0 and primeiro_0:\n",
    "            segundo_0 = True\n",
    "        if num == 0 and not primeiro_0:\n",
    "            primeiro_0 = True\n",
    "    return False\n",
    "\n",
    "numeros = list(map(int, input(\"Digite uma lista de números separados por espaço: \").split()))\n",
    "\n",
    "espiao = maybeMonad(espiao)\n",
    "\n",
    "assert(espiao([1,2,4,0,0,7,5]) == True)\n",
    "assert(espiao([1,0,2,4,0,5,7]) == True)\n",
    "assert(espiao([1,7,2,4,0,5,0]) == False)\n",
    "assert(espiao([1,2,4,0,0,7,5],4) == None)\n",
    "\n",
    "print(espiao(numeros))"
   ]
  }
 ],
 "metadata": {
  "kernelspec": {
   "display_name": "Python 3",
   "language": "python",
   "name": "python3"
  },
  "language_info": {
   "codemirror_mode": {
    "name": "ipython",
    "version": 3
   },
   "file_extension": ".py",
   "mimetype": "text/x-python",
   "name": "python",
   "nbconvert_exporter": "python",
   "pygments_lexer": "ipython3",
   "version": "3.7.4"
  }
 },
 "nbformat": 4,
 "nbformat_minor": 2
}

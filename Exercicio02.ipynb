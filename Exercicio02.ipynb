{
 "cells": [
  {
   "cell_type": "markdown",
   "metadata": {},
   "source": [
    "1 - Crie um programa que recebe uma lista de números e\n",
    "- retorne o maior elemento\n",
    "- retorne a soma dos elementos\n",
    "- retorne o número de ocorrências do primeiro elemento da lista\n",
    "- retorne a média dos elementos\n",
    "- retorne o valor mais próximo da média dos elementos\n",
    "- retorne a soma dos elementos com valor negativo\n",
    "- retorne a quantidade de vizinhos iguais"
   ]
  },
  {
   "cell_type": "code",
   "execution_count": 47,
   "metadata": {},
   "outputs": [
    {
     "name": "stdout",
     "output_type": "stream",
     "text": [
      "Digite uma lista de números separados por espaço: 8 8 4 9 8.65 8.65 4 4 3\n",
      "A lista é:  [8.0, 8.0, 4.0, 9.0, 8.65, 8.65, 4.0, 4.0, 3.0]\n",
      "O maior número é =  9.0\n",
      "A soma dos números é =  57.3\n",
      "O primeiro valor é =  8.0\n",
      "O primeiro valor aparece 2 vezes\n",
      "A média dos valores é =  6.366666666666666\n",
      "O valor mais proximo da média é 8.0\n",
      "A soma dos números negativos é =  0.0\n",
      "A quantidade de vizinhos iguais é:  3\n"
     ]
    }
   ],
   "source": [
    "# input_string = input(\"Digite uma lista de números separados por espaço: \")\n",
    "# lista = input_string.split()\n",
    "# print(\"A lista é: \", lista)\n",
    "# #maior elemento\n",
    "# print(\"O maior número é = \", max(lista, key=float))\n",
    "# #soma\n",
    "# sum = 0.0\n",
    "# for num in lista:\n",
    "#     sum += float(num)\n",
    "# print(\"A soma dos números é = \", sum)\n",
    "# print(lista[0])\n",
    "# print(input_string[0])\n",
    "\n",
    "lista = list(map(float,input(\"Digite uma lista de números separados por espaço: \").split()))\n",
    "print(\"A lista é: \", lista)\n",
    "#maior elemento\n",
    "print(\"O maior número é = \", max(lista, key=float))\n",
    "#soma\n",
    "sum = 0.0\n",
    "for num in lista:\n",
    "    sum += float(num)\n",
    "print(\"A soma dos números é = \", sum)\n",
    "#n ocorrencias\n",
    "print(\"O primeiro valor é = \", lista[0])\n",
    "print(\"O primeiro valor aparece %i vezes\" %lista.count(lista[0]))\n",
    "#media\n",
    "media = sum/len(lista)\n",
    "print(\"A média dos valores é = \", media)\n",
    "#valor proximo da media\n",
    "def closest_to_average(lst):\n",
    "\n",
    "    \"\"\" Busca na lista o valor mais próximo da média.\n",
    "\n",
    "    Parâmetros:\n",
    "        lst list: Lista de números a ser verificada.\n",
    "\n",
    "    Retorno:\n",
    "        numérico: Valor mais próximo da média.\n",
    "    \"\"\"\n",
    "\n",
    "    diffs = {value: abs(value - media) for value in lst}\n",
    "\n",
    "    return min(diffs, key=diffs.get)\n",
    "print(\"O valor mais proximo da média é {}\".format(closest_to_average(lista)))\n",
    "#soma dos valores negativos\n",
    "soma_negativo = 0.0\n",
    "for n in lista:\n",
    "    if(n<0):\n",
    "        soma_negativo -= -float(n)\n",
    "print(\"A soma dos números negativos é = \", soma_negativo)\n",
    "#quantidade de vizinhos iguais\n",
    "soma_vizinhos=0\n",
    "a = -1\n",
    "for i in range(len(lista)):\n",
    "    if (lista[i] == lista[a]):\n",
    "        soma_vizinhos += 1\n",
    "    a+=1\n",
    "print(\"A quantidade de vizinhos iguais é: \", soma_vizinhos)"
   ]
  },
  {
   "cell_type": "markdown",
   "metadata": {},
   "source": [
    "2 - Faça um programa que receba duas listas e retorne True se são iguais ou False caso contrario.\n",
    "Duas listas são iguais se possuem os mesmos valores e na mesma ordem."
   ]
  },
  {
   "cell_type": "code",
   "execution_count": null,
   "metadata": {},
   "outputs": [],
   "source": [
    "lista = list(input(\"Digite uma lista separando elementos por espaço: \").split())\n",
    "lista2 = list(input(\"Digite outra lista separando elementos por espaço: \").split())\n",
    "print(lista, lista2)\n",
    "if(lista == lista2):\n",
    "    print(\"True\")\n",
    "else:\n",
    "    print(\"False\")"
   ]
  },
  {
   "cell_type": "markdown",
   "metadata": {},
   "source": [
    "3 - Faça um programa que receba duas listas e retorne True se têm os mesmos elementos ou False caso contrário\n",
    "Duas listas possuem os mesmos elementos quando são compostas pelos mesmos valores, mas não obrigatoriamente na mesma ordem."
   ]
  },
  {
   "cell_type": "code",
   "execution_count": null,
   "metadata": {},
   "outputs": [],
   "source": [
    "lista = list(input(\"Digite uma lista separando elementos por espaço: \").split())\n",
    "lista2 = list(input(\"Digite outra lista separando elementos por espaço: \").split())\n",
    "lista.sort()\n",
    "lista2.sort()\n",
    "if(lista == lista2):\n",
    "    print(\"True\")\n",
    "else:\n",
    "    print(\"False\")"
   ]
  },
  {
   "cell_type": "markdown",
   "metadata": {},
   "source": [
    "4 - Faça um programa que percorre uma lista com o seguinte formato: [['Brasil', 'Italia', [10, 9]], ['Brasil', 'Espanha', [5, 7]], ['Italia', 'Espanha', [7,8]]]. Essa lista indica o número de faltas que cada time fez em cada jogo. Na lista acima, no jogo entre Brasil e Itália, o Brasil fez 10 faltas e a Itália fez 9.\n",
    "O programa deve imprimir na tela:\n",
    "- o total de faltas do campeonato\n",
    "- o time que fez mais faltas\n",
    "- o time que fez menos faltas"
   ]
  },
  {
   "cell_type": "code",
   "execution_count": null,
   "metadata": {},
   "outputs": [],
   "source": [
    "lista = [['Brasil', 'Italia', [10, 9]], ['Brasil', 'Espanha', [5, 7]], ['Italia', 'Espanha', [7,8]]]\n",
    "print(lista[2][2][0])\n",
    "brasil_faltas = int(lista[0][2][0]) + int(lista[1][2][0])\n",
    "italia_faltas = int(lista[0][2][1]) + int(lista[2][2][0])\n",
    "espanha_faltas = int(lista[1][2][1]) + int(lista[2][2][1])\n",
    "#total de faltas\n",
    "faltas = int(lista[0][2][0]) + int(lista[0][2][1]) + int(lista[1][2][0]) + int(lista[1][2][1]) + int(lista[2][2][0]) + int(lista[2][2][1])\n",
    "print(\"O campeonato teve {} faltas\".format(faltas))\n",
    "#time que fez mais faltas\n",
    "print(\"Brasil fez: {} faltas\\nItália fez: {} faltas\\nEspanha fez: {} faltas\".format(brasil_faltas, italia_faltas, espanha_faltas))"
   ]
  },
  {
   "cell_type": "markdown",
   "metadata": {},
   "source": [
    "5 - Escreva um programa que conta a quantidade de vogais em uma string e armazena tal quantidade em um dicionário, onde a chave é a vogal considerada."
   ]
  },
  {
   "cell_type": "code",
   "execution_count": null,
   "metadata": {},
   "outputs": [],
   "source": [
    "dic_stg = input(\"Digite uma string qualquer cada vogal representa o número de vezes que aparece: \")\n",
    "#forma1 case sensitive\n",
    "import re\n",
    "from collections import Counter\n",
    "def vogais(string):\n",
    "    return Counter(re.sub('[^aeiouAEIOU]', '', string))\n",
    "print(vogais(dic_stg))\n",
    "#forma2\n",
    "def conta_vogais(string):\n",
    "    string = string.lower() # para que a comparação não seja sensível a maiuscula/minuscula\n",
    "    vogais = 'aeiou'\n",
    "    return {i: string.count(i) for i in vogais if i in string}\n",
    "print(conta_vogais(dic_stg))"
   ]
  },
  {
   "cell_type": "markdown",
   "metadata": {},
   "source": [
    "6 - Escreva um programa que lê duas notas de vários alunos e armazena tais notas em um dicionário, onde a chave é o nome do aluno. A entrada de dados deve terminar quando for lida uma string vazia como nome. Escreva uma função que retorna a média do aluno, dado seu nome."
   ]
  },
  {
   "cell_type": "code",
   "execution_count": null,
   "metadata": {},
   "outputs": [],
   "source": [
    "nome = input(\"Digite o nome do aluno e deixe em branco para encerrar: \")\n",
    "while nome != \"\":\n",
    "    notas = list(map(float,input(\"Digite uma lista de notas separados por espaço: \").split()))\n",
    "    my_dict [nome] = notas\n",
    "    nome = input(\"Digite o nome do aluno e deixe em branco para encerrar: \")\n",
    "print(my_dict)\n",
    "nome_dic = input(\"De qual aluno deseja saber a média? Deixe em branco para encerrar: \")\n",
    "while (nome_dic != \"\"):\n",
    "    sum = 0.0\n",
    "    for notas in my_dict[nome_dic]:\n",
    "        sum += float(notas)\n",
    "    #media\n",
    "    media = sum/len(my_dict[nome_dic])\n",
    "    print(f\"A média das notas do {nome_dic} é = {media:.2f}\")\n",
    "    nome_dic = input(\"De qual aluno deseja saber a média? Deixe em branco para encerrar: \")"
   ]
  },
  {
   "cell_type": "markdown",
   "metadata": {},
   "source": [
    "7 - Uma pista de Kart permite 10 voltas para cada um de 6 corredores. Escreva um programa que leia todos os tempos em segundos e os guarde em um dicionário, onde a chave é o nome do corredor. Ao final diga de quem foi a melhor volta da prova e em que volta; e ainda a classificação final em ordem (1o o campeão). O campeão é o que tem a menor média de tempos."
   ]
  },
  {
   "cell_type": "code",
   "execution_count": 46,
   "metadata": {},
   "outputs": [
    {
     "name": "stdout",
     "output_type": "stream",
     "text": [
      "Digite o nome do participante: Rafael\n",
      "Digite o tempo da 1ª volta: 4.65\n",
      "Digite o tempo da 2ª volta: 8.\n",
      "Digite o tempo da 3ª volta: 3.65\n",
      "Digite o tempo da 4ª volta: 7.54\n",
      "Digite o tempo da 5ª volta: 9.87\n",
      "Digite o nome do participante: Allan\n",
      "Digite o tempo da 1ª volta: 7.89\n",
      "Digite o tempo da 2ª volta: 3.457\n",
      "Digite o tempo da 3ª volta: 8.57\n",
      "Digite o tempo da 4ª volta: 9.658\n",
      "Digite o tempo da 5ª volta: 8.657\n",
      "Digite o nome do participante: Lucas\n",
      "Digite o tempo da 1ª volta: 3.4523\n",
      "Digite o tempo da 2ª volta: 7.57\n",
      "Digite o tempo da 3ª volta: 8.568\n",
      "Digite o tempo da 4ª volta: 7.54\n",
      "Digite o tempo da 5ª volta: 9.65\n",
      "Voltas: {'Rafael': [4.65, 8.0, 3.65, 7.54, 9.87], 'Allan': [7.89, 3.457, 8.57, 9.658, 8.657], 'Lucas': [3.4523, 7.57, 8.568, 7.54, 9.65]}\n",
      "Médias: {'Rafael': 6.742, 'Allan': 7.6464, 'Lucas': 7.356059999999999}\n",
      "O menor tempo é 3.4523s na 1ª volta do(a) Lucas\n",
      "Em 1º lugar, Rafael com média: 6.742\n",
      "Em 2º lugar, Lucas com média: 7.356059999999999\n",
      "Em 3º lugar, Allan com média: 7.6464\n"
     ]
    }
   ],
   "source": [
    "my_dic = {}\n",
    "media_dic = {}\n",
    "pos_dic = {}\n",
    "competidores = 0\n",
    "nome = \"\"\n",
    "lista_pos = []\n",
    "menor_tempo = 0\n",
    "menor_volta = 0\n",
    "winner = \"\"\n",
    "while (competidores<3):\n",
    "    a=0\n",
    "    sum = 0.0\n",
    "    media = 0.0\n",
    "    n_volta = 0\n",
    "    lista = []\n",
    "    nome = input(\"Digite o nome do participante: \")\n",
    "    while(a<5):\n",
    "        n_volta = a+1\n",
    "        volta = input(f\"Digite o tempo da {n_volta}ª volta: \")\n",
    "        sum+=float(volta)\n",
    "        lista.append(float(volta))\n",
    "        a+=1\n",
    "    my_dic [nome] = lista\n",
    "    media = sum/(n_volta)\n",
    "    media_dic [nome] = media\n",
    "    menor_tempo = float(volta)\n",
    "    competidores+=1\n",
    "for name in my_dic:\n",
    "    index = 0\n",
    "    for item in my_dic[name]:\n",
    "        lap = index +1\n",
    "        if (item <= menor_tempo):\n",
    "            menor_tempo = item\n",
    "            menor_volta = lap\n",
    "            winner = name\n",
    "        index += 1\n",
    "print(f\"Voltas: {my_dic}\\nMédias: {media_dic}\")\n",
    "print(f\"O menor tempo é {menor_tempo}s na {menor_volta}ª volta do(a) {winner}\")\n",
    "posicao = 0\n",
    "tuplas = sorted(media_dic.items(), key=lambda x: x[1])\n",
    "for elem in tuplas:\n",
    "    posicao += 1\n",
    "    print(f\"Em {posicao}º lugar, {elem[0]} com média: {elem[1]}\")"
   ]
  },
  {
   "cell_type": "markdown",
   "metadata": {},
   "source": [
    "8 - Escreva um programa para armazenar uma agenda de telefones em um dicionário.\n",
    "Cada pessoa pode ter um ou mais telefones e a chave do dicionário é o nome da pessoa. Seu programa deve ter as seguintes funções:\n",
    "- incluirNovoNome – essa função acrescenta um novo nome na agenda, com um ou mais telefones. Ela deve receber como argumentos o nome e os telefones.\n",
    "- incluirTelefone – essa função acrescenta um telefone em um nome existente na agenda. Caso o nome não exista na agenda, você̂ deve perguntar se a pessoa deseja inclui-lo. Caso a resposta seja afirmativa, use a função anterior para incluir o novo nome.\n",
    "- excluirTelefone – essa função exclui um telefone de uma pessoa que já está na agenda. Se a pessoa tiver apenas um telefone, ela deve ser excluída da agenda.\n",
    "- excluirNome – essa função exclui uma pessoa da agenda.\n",
    "- consultarTelefone – essa função retorna os telefones de uma pessoa na agenda."
   ]
  },
  {
   "cell_type": "code",
   "execution_count": null,
   "metadata": {},
   "outputs": [],
   "source": []
  },
  {
   "cell_type": "markdown",
   "metadata": {},
   "source": [
    "9 - 9 Faça um programa que leia um arquivo texto contendo uma lista de endereços IP e gere um outro arquivo, contendo um relatório dos endereços IP válidos e inválidos.\n",
    "O arquivo de entrada possui o seguinte formato:\n",
    "200.135.80.9\n",
    "192.168.1.1\n",
    "8.35.67.74\n",
    "257.32.4.5\n",
    "85.345.1.2\n",
    "1.2.3.4\n",
    "9.8.234.5\n",
    "192.168.0.256\n",
    "O arquivo de saída possui o seguinte formato:\n",
    "[Endereços válidos:]\n",
    "200.135.80.9\n",
    "192.168.1.1\n",
    "8.35.67.74\n",
    "1.2.3.4\n",
    "[Endereços inválidos:]\n",
    "257.32.4.5\n",
    "85.345.1.2\n",
    "9.8.234.5\n",
    "192.168.0.256"
   ]
  },
  {
   "cell_type": "code",
   "execution_count": null,
   "metadata": {},
   "outputs": [],
   "source": []
  },
  {
   "cell_type": "markdown",
   "metadata": {},
   "source": [
    "10 - A ACME Inc., uma empresa de 500 funcionários, está tendo problemas de espaço em disco no seu servidor de arquivos. Para tentar resolver este problema, o Administrador de Rede precisa saber qual o espaço ocupado pelos usuários, e identificar os usuários com maior espaço ocupado. Através de um programa, baixado da Internet, ele conseguiu gerar o seguinte arquivo, chamado \"usuarios.txt\":\n",
    "alexandre 456123789\n",
    "anderson 1245698456\n",
    "antonio 123456456\n",
    "carlos 91257581\n",
    "cesar 987458\n",
    "rosemary 789456125\n",
    "Neste arquivo, o nome do usuário possui 15 caracteres. A partir deste arquivo, você deve criar um programa que gere um relatório, chamado \"relatório.txt\", no seguinte formato:\n",
    "\n",
    "ACME Inc. Uso do espaço em disco pelos usuários\n",
    "--------------------------------------------------------------\n",
    "----------\n",
    "Nr.  Usuário    Espaço utilizado   % do uso\n",
    "1    alexandre  434,99 MB          16,85%\n",
    "2    anderson   1187,99 MB         46,02%\n",
    "3    antonio    117,73 MB          4,56%\n",
    "4    carlos     87,03 MB           3,37%\n",
    "5    cesar      0,94 MB            0,04%\n",
    "6    rosemary   752,88 MB          29,16%\n",
    "Espaço total ocupado: 2581,57 MB\n",
    "Espaço médio ocupado: 430,26 MB\n",
    "\n",
    "O arquivo de entrada deve ser lido uma única vez, e os dados armazenados em memória, caso sejam necessários, de forma a agilizar a execução do programa. A  conversão da espaço ocupado em disco, de bytes para megabytes deverá ser feita através de uma função separada, que será chamada pelo programa principal. O cálculo do percentual de uso também deverá ser feito através de uma função, que será chamada pelo programa principal."
   ]
  },
  {
   "cell_type": "code",
   "execution_count": null,
   "metadata": {},
   "outputs": [],
   "source": []
  }
 ],
 "metadata": {
  "kernelspec": {
   "display_name": "Python 3",
   "language": "python",
   "name": "python3"
  },
  "language_info": {
   "codemirror_mode": {
    "name": "ipython",
    "version": 3
   },
   "file_extension": ".py",
   "mimetype": "text/x-python",
   "name": "python",
   "nbconvert_exporter": "python",
   "pygments_lexer": "ipython3",
   "version": "3.7.4"
  }
 },
 "nbformat": 4,
 "nbformat_minor": 2
}
